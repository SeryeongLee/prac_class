{
  "nbformat": 4,
  "nbformat_minor": 0,
  "metadata": {
    "colab": {
      "name": "hw1.ipynb",
      "provenance": [],
      "collapsed_sections": [],
      "authorship_tag": "ABX9TyOLIN8cOXSlO+TfBK3EQzGh",
      "include_colab_link": true
    },
    "kernelspec": {
      "name": "ir",
      "display_name": "R"
    }
  },
  "cells": [
    {
      "cell_type": "markdown",
      "metadata": {
        "id": "view-in-github",
        "colab_type": "text"
      },
      "source": [
        "<a href=\"https://colab.research.google.com/github/SeryeongLee/prac_class/blob/main/hw1.ipynb\" target=\"_parent\"><img src=\"https://colab.research.google.com/assets/colab-badge.svg\" alt=\"Open In Colab\"/></a>"
      ]
    },
    {
      "cell_type": "code",
      "metadata": {
        "colab": {
          "base_uri": "https://localhost:8080/"
        },
        "id": "t-lNI4HHy6UA",
        "outputId": "61ee8b10-4d97-46ea-fee1-c46c89950795"
      },
      "source": [
        "library(tidyverse)"
      ],
      "execution_count": 2,
      "outputs": [
        {
          "output_type": "stream",
          "text": [
            "Warning message in system(\"timedatectl\", intern = TRUE):\n",
            "“running command 'timedatectl' had status 1”\n",
            "── \u001b[1mAttaching packages\u001b[22m ─────────────────────────────────────── tidyverse 1.3.0 ──\n",
            "\n",
            "\u001b[32m✔\u001b[39m \u001b[34mggplot2\u001b[39m 3.3.3     \u001b[32m✔\u001b[39m \u001b[34mpurrr  \u001b[39m 0.3.4\n",
            "\u001b[32m✔\u001b[39m \u001b[34mtibble \u001b[39m 3.1.0     \u001b[32m✔\u001b[39m \u001b[34mdplyr  \u001b[39m 1.0.5\n",
            "\u001b[32m✔\u001b[39m \u001b[34mtidyr  \u001b[39m 1.1.3     \u001b[32m✔\u001b[39m \u001b[34mstringr\u001b[39m 1.4.0\n",
            "\u001b[32m✔\u001b[39m \u001b[34mreadr  \u001b[39m 1.4.0     \u001b[32m✔\u001b[39m \u001b[34mforcats\u001b[39m 0.5.1\n",
            "\n",
            "── \u001b[1mConflicts\u001b[22m ────────────────────────────────────────── tidyverse_conflicts() ──\n",
            "\u001b[31m✖\u001b[39m \u001b[34mdplyr\u001b[39m::\u001b[32mfilter()\u001b[39m masks \u001b[34mstats\u001b[39m::filter()\n",
            "\u001b[31m✖\u001b[39m \u001b[34mdplyr\u001b[39m::\u001b[32mlag()\u001b[39m    masks \u001b[34mstats\u001b[39m::lag()\n",
            "\n"
          ],
          "name": "stderr"
        }
      ]
    },
    {
      "cell_type": "code",
      "metadata": {
        "colab": {
          "base_uri": "https://localhost:8080/"
        },
        "id": "SI-3Py5KzAJO",
        "outputId": "39bae3d9-8757-49ce-b260-7e21dc8e0335"
      },
      "source": [
        "install.packages(\"nycflights13\")"
      ],
      "execution_count": 3,
      "outputs": [
        {
          "output_type": "stream",
          "text": [
            "Installing package into ‘/usr/local/lib/R/site-library’\n",
            "(as ‘lib’ is unspecified)\n",
            "\n"
          ],
          "name": "stderr"
        }
      ]
    },
    {
      "cell_type": "code",
      "metadata": {
        "id": "KUG8d1hyzA9j"
      },
      "source": [
        "library(nycflights13)"
      ],
      "execution_count": 4,
      "outputs": []
    },
    {
      "cell_type": "code",
      "metadata": {
        "id": "Ql8YBp_wGIed"
      },
      "source": [
        "?flights"
      ],
      "execution_count": 5,
      "outputs": []
    },
    {
      "cell_type": "markdown",
      "metadata": {
        "id": "JrHJ65aiGlAO"
      },
      "source": [
        "**flights**\\\n",
        "On-time data for all flights that departed NYC (i.e. JFK, LGA or\n",
        "     EWR) in 2013"
      ]
    },
    {
      "cell_type": "code",
      "metadata": {
        "colab": {
          "base_uri": "https://localhost:8080/",
          "height": 764
        },
        "id": "AN0fuGCgzkXz",
        "outputId": "c329784d-7e6c-44b1-ffa1-b871dd1bf82c"
      },
      "source": [
        "flights %>% summary()"
      ],
      "execution_count": 6,
      "outputs": [
        {
          "output_type": "display_data",
          "data": {
            "text/plain": [
              "      year          month             day           dep_time    sched_dep_time\n",
              " Min.   :2013   Min.   : 1.000   Min.   : 1.00   Min.   :   1   Min.   : 106  \n",
              " 1st Qu.:2013   1st Qu.: 4.000   1st Qu.: 8.00   1st Qu.: 907   1st Qu.: 906  \n",
              " Median :2013   Median : 7.000   Median :16.00   Median :1401   Median :1359  \n",
              " Mean   :2013   Mean   : 6.549   Mean   :15.71   Mean   :1349   Mean   :1344  \n",
              " 3rd Qu.:2013   3rd Qu.:10.000   3rd Qu.:23.00   3rd Qu.:1744   3rd Qu.:1729  \n",
              " Max.   :2013   Max.   :12.000   Max.   :31.00   Max.   :2400   Max.   :2359  \n",
              "                                                 NA's   :8255                 \n",
              "   dep_delay          arr_time    sched_arr_time   arr_delay       \n",
              " Min.   : -43.00   Min.   :   1   Min.   :   1   Min.   : -86.000  \n",
              " 1st Qu.:  -5.00   1st Qu.:1104   1st Qu.:1124   1st Qu.: -17.000  \n",
              " Median :  -2.00   Median :1535   Median :1556   Median :  -5.000  \n",
              " Mean   :  12.64   Mean   :1502   Mean   :1536   Mean   :   6.895  \n",
              " 3rd Qu.:  11.00   3rd Qu.:1940   3rd Qu.:1945   3rd Qu.:  14.000  \n",
              " Max.   :1301.00   Max.   :2400   Max.   :2359   Max.   :1272.000  \n",
              " NA's   :8255      NA's   :8713                  NA's   :9430      \n",
              "   carrier              flight       tailnum             origin         \n",
              " Length:336776      Min.   :   1   Length:336776      Length:336776     \n",
              " Class :character   1st Qu.: 553   Class :character   Class :character  \n",
              " Mode  :character   Median :1496   Mode  :character   Mode  :character  \n",
              "                    Mean   :1972                                        \n",
              "                    3rd Qu.:3465                                        \n",
              "                    Max.   :8500                                        \n",
              "                                                                        \n",
              "     dest              air_time        distance         hour      \n",
              " Length:336776      Min.   : 20.0   Min.   :  17   Min.   : 1.00  \n",
              " Class :character   1st Qu.: 82.0   1st Qu.: 502   1st Qu.: 9.00  \n",
              " Mode  :character   Median :129.0   Median : 872   Median :13.00  \n",
              "                    Mean   :150.7   Mean   :1040   Mean   :13.18  \n",
              "                    3rd Qu.:192.0   3rd Qu.:1389   3rd Qu.:17.00  \n",
              "                    Max.   :695.0   Max.   :4983   Max.   :23.00  \n",
              "                    NA's   :9430                                  \n",
              "     minute        time_hour                  \n",
              " Min.   : 0.00   Min.   :2013-01-01 05:00:00  \n",
              " 1st Qu.: 8.00   1st Qu.:2013-04-04 13:00:00  \n",
              " Median :29.00   Median :2013-07-03 10:00:00  \n",
              " Mean   :26.23   Mean   :2013-07-03 05:22:54  \n",
              " 3rd Qu.:44.00   3rd Qu.:2013-10-01 07:00:00  \n",
              " Max.   :59.00   Max.   :2013-12-31 23:00:00  \n",
              "                                              "
            ]
          },
          "metadata": {
            "tags": []
          }
        }
      ]
    },
    {
      "cell_type": "code",
      "metadata": {
        "colab": {
          "base_uri": "https://localhost:8080/",
          "height": 443
        },
        "id": "iSefXQREzzfx",
        "outputId": "c9effadf-e716-4b94-e412-816535aea2e5"
      },
      "source": [
        "flights %>% head(5)"
      ],
      "execution_count": null,
      "outputs": [
        {
          "output_type": "display_data",
          "data": {
            "text/plain": [
              "  year month day dep_time sched_dep_time dep_delay arr_time sched_arr_time\n",
              "1 2013 1     1   517      515             2         830      819          \n",
              "2 2013 1     1   533      529             4         850      830          \n",
              "3 2013 1     1   542      540             2         923      850          \n",
              "4 2013 1     1   544      545            -1        1004     1022          \n",
              "5 2013 1     1   554      600            -6         812      837          \n",
              "  arr_delay carrier flight tailnum origin dest air_time distance hour minute\n",
              "1  11       UA      1545   N14228  EWR    IAH  227      1400     5    15    \n",
              "2  20       UA      1714   N24211  LGA    IAH  227      1416     5    29    \n",
              "3  33       AA      1141   N619AA  JFK    MIA  160      1089     5    40    \n",
              "4 -18       B6       725   N804JB  JFK    BQN  183      1576     5    45    \n",
              "5 -25       DL       461   N668DN  LGA    ATL  116       762     6     0    \n",
              "  time_hour          \n",
              "1 2013-01-01 05:00:00\n",
              "2 2013-01-01 05:00:00\n",
              "3 2013-01-01 05:00:00\n",
              "4 2013-01-01 05:00:00\n",
              "5 2013-01-01 06:00:00"
            ],
            "text/latex": "A tibble: 5 × 19\n\\begin{tabular}{lllllllllllllllllll}\n year & month & day & dep\\_time & sched\\_dep\\_time & dep\\_delay & arr\\_time & sched\\_arr\\_time & arr\\_delay & carrier & flight & tailnum & origin & dest & air\\_time & distance & hour & minute & time\\_hour\\\\\n <int> & <int> & <int> & <int> & <int> & <dbl> & <int> & <int> & <dbl> & <chr> & <int> & <chr> & <chr> & <chr> & <dbl> & <dbl> & <dbl> & <dbl> & <dttm>\\\\\n\\hline\n\t 2013 & 1 & 1 & 517 & 515 &  2 &  830 &  819 &  11 & UA & 1545 & N14228 & EWR & IAH & 227 & 1400 & 5 & 15 & 2013-01-01 05:00:00\\\\\n\t 2013 & 1 & 1 & 533 & 529 &  4 &  850 &  830 &  20 & UA & 1714 & N24211 & LGA & IAH & 227 & 1416 & 5 & 29 & 2013-01-01 05:00:00\\\\\n\t 2013 & 1 & 1 & 542 & 540 &  2 &  923 &  850 &  33 & AA & 1141 & N619AA & JFK & MIA & 160 & 1089 & 5 & 40 & 2013-01-01 05:00:00\\\\\n\t 2013 & 1 & 1 & 544 & 545 & -1 & 1004 & 1022 & -18 & B6 &  725 & N804JB & JFK & BQN & 183 & 1576 & 5 & 45 & 2013-01-01 05:00:00\\\\\n\t 2013 & 1 & 1 & 554 & 600 & -6 &  812 &  837 & -25 & DL &  461 & N668DN & LGA & ATL & 116 &  762 & 6 &  0 & 2013-01-01 06:00:00\\\\\n\\end{tabular}\n",
            "text/markdown": "\nA tibble: 5 × 19\n\n| year &lt;int&gt; | month &lt;int&gt; | day &lt;int&gt; | dep_time &lt;int&gt; | sched_dep_time &lt;int&gt; | dep_delay &lt;dbl&gt; | arr_time &lt;int&gt; | sched_arr_time &lt;int&gt; | arr_delay &lt;dbl&gt; | carrier &lt;chr&gt; | flight &lt;int&gt; | tailnum &lt;chr&gt; | origin &lt;chr&gt; | dest &lt;chr&gt; | air_time &lt;dbl&gt; | distance &lt;dbl&gt; | hour &lt;dbl&gt; | minute &lt;dbl&gt; | time_hour &lt;dttm&gt; |\n|---|---|---|---|---|---|---|---|---|---|---|---|---|---|---|---|---|---|---|\n| 2013 | 1 | 1 | 517 | 515 |  2 |  830 |  819 |  11 | UA | 1545 | N14228 | EWR | IAH | 227 | 1400 | 5 | 15 | 2013-01-01 05:00:00 |\n| 2013 | 1 | 1 | 533 | 529 |  4 |  850 |  830 |  20 | UA | 1714 | N24211 | LGA | IAH | 227 | 1416 | 5 | 29 | 2013-01-01 05:00:00 |\n| 2013 | 1 | 1 | 542 | 540 |  2 |  923 |  850 |  33 | AA | 1141 | N619AA | JFK | MIA | 160 | 1089 | 5 | 40 | 2013-01-01 05:00:00 |\n| 2013 | 1 | 1 | 544 | 545 | -1 | 1004 | 1022 | -18 | B6 |  725 | N804JB | JFK | BQN | 183 | 1576 | 5 | 45 | 2013-01-01 05:00:00 |\n| 2013 | 1 | 1 | 554 | 600 | -6 |  812 |  837 | -25 | DL |  461 | N668DN | LGA | ATL | 116 |  762 | 6 |  0 | 2013-01-01 06:00:00 |\n\n",
            "text/html": [
              "<table class=\"dataframe\">\n",
              "<caption>A tibble: 5 × 19</caption>\n",
              "<thead>\n",
              "\t<tr><th scope=col>year</th><th scope=col>month</th><th scope=col>day</th><th scope=col>dep_time</th><th scope=col>sched_dep_time</th><th scope=col>dep_delay</th><th scope=col>arr_time</th><th scope=col>sched_arr_time</th><th scope=col>arr_delay</th><th scope=col>carrier</th><th scope=col>flight</th><th scope=col>tailnum</th><th scope=col>origin</th><th scope=col>dest</th><th scope=col>air_time</th><th scope=col>distance</th><th scope=col>hour</th><th scope=col>minute</th><th scope=col>time_hour</th></tr>\n",
              "\t<tr><th scope=col>&lt;int&gt;</th><th scope=col>&lt;int&gt;</th><th scope=col>&lt;int&gt;</th><th scope=col>&lt;int&gt;</th><th scope=col>&lt;int&gt;</th><th scope=col>&lt;dbl&gt;</th><th scope=col>&lt;int&gt;</th><th scope=col>&lt;int&gt;</th><th scope=col>&lt;dbl&gt;</th><th scope=col>&lt;chr&gt;</th><th scope=col>&lt;int&gt;</th><th scope=col>&lt;chr&gt;</th><th scope=col>&lt;chr&gt;</th><th scope=col>&lt;chr&gt;</th><th scope=col>&lt;dbl&gt;</th><th scope=col>&lt;dbl&gt;</th><th scope=col>&lt;dbl&gt;</th><th scope=col>&lt;dbl&gt;</th><th scope=col>&lt;dttm&gt;</th></tr>\n",
              "</thead>\n",
              "<tbody>\n",
              "\t<tr><td>2013</td><td>1</td><td>1</td><td>517</td><td>515</td><td> 2</td><td> 830</td><td> 819</td><td> 11</td><td>UA</td><td>1545</td><td>N14228</td><td>EWR</td><td>IAH</td><td>227</td><td>1400</td><td>5</td><td>15</td><td>2013-01-01 05:00:00</td></tr>\n",
              "\t<tr><td>2013</td><td>1</td><td>1</td><td>533</td><td>529</td><td> 4</td><td> 850</td><td> 830</td><td> 20</td><td>UA</td><td>1714</td><td>N24211</td><td>LGA</td><td>IAH</td><td>227</td><td>1416</td><td>5</td><td>29</td><td>2013-01-01 05:00:00</td></tr>\n",
              "\t<tr><td>2013</td><td>1</td><td>1</td><td>542</td><td>540</td><td> 2</td><td> 923</td><td> 850</td><td> 33</td><td>AA</td><td>1141</td><td>N619AA</td><td>JFK</td><td>MIA</td><td>160</td><td>1089</td><td>5</td><td>40</td><td>2013-01-01 05:00:00</td></tr>\n",
              "\t<tr><td>2013</td><td>1</td><td>1</td><td>544</td><td>545</td><td>-1</td><td>1004</td><td>1022</td><td>-18</td><td>B6</td><td> 725</td><td>N804JB</td><td>JFK</td><td>BQN</td><td>183</td><td>1576</td><td>5</td><td>45</td><td>2013-01-01 05:00:00</td></tr>\n",
              "\t<tr><td>2013</td><td>1</td><td>1</td><td>554</td><td>600</td><td>-6</td><td> 812</td><td> 837</td><td>-25</td><td>DL</td><td> 461</td><td>N668DN</td><td>LGA</td><td>ATL</td><td>116</td><td> 762</td><td>6</td><td> 0</td><td>2013-01-01 06:00:00</td></tr>\n",
              "</tbody>\n",
              "</table>\n"
            ]
          },
          "metadata": {
            "tags": []
          }
        }
      ]
    },
    {
      "cell_type": "code",
      "metadata": {
        "id": "GgBZ_oEWz4xT"
      },
      "source": [
        "flights %>% "
      ],
      "execution_count": null,
      "outputs": []
    },
    {
      "cell_type": "markdown",
      "metadata": {
        "id": "1o9OqIsJzcNw"
      },
      "source": [
        "filter rows with filter()"
      ]
    },
    {
      "cell_type": "code",
      "metadata": {
        "colab": {
          "base_uri": "https://localhost:8080/",
          "height": 509
        },
        "id": "GZTojv9rzB0P",
        "outputId": "a244c40c-122b-43b3-e16f-19c9706b7041"
      },
      "source": [
        "filter(flights, month==12, day==25) %>% head()"
      ],
      "execution_count": 6,
      "outputs": [
        {
          "output_type": "display_data",
          "data": {
            "text/plain": [
              "  year month day dep_time sched_dep_time dep_delay arr_time sched_arr_time\n",
              "1 2013 12    25  456      500            -4         649      651          \n",
              "2 2013 12    25  524      515             9         805      814          \n",
              "3 2013 12    25  542      540             2         832      850          \n",
              "4 2013 12    25  546      550            -4        1022     1027          \n",
              "5 2013 12    25  556      600            -4         730      745          \n",
              "6 2013 12    25  557      600            -3         743      752          \n",
              "  arr_delay carrier flight tailnum origin dest air_time distance hour minute\n",
              "1  -2       US      1895   N156UW  EWR    CLT   98       529     5     0    \n",
              "2  -9       UA      1016   N32404  EWR    IAH  203      1400     5    15    \n",
              "3 -18       AA      2243   N5EBAA  JFK    MIA  146      1089     5    40    \n",
              "4  -5       B6       939   N665JB  JFK    BQN  191      1576     5    50    \n",
              "5 -15       AA       301   N3JLAA  LGA    ORD  123       733     6     0    \n",
              "6  -9       DL       731   N369NB  LGA    DTW   88       502     6     0    \n",
              "  time_hour          \n",
              "1 2013-12-25 05:00:00\n",
              "2 2013-12-25 05:00:00\n",
              "3 2013-12-25 05:00:00\n",
              "4 2013-12-25 05:00:00\n",
              "5 2013-12-25 06:00:00\n",
              "6 2013-12-25 06:00:00"
            ],
            "text/latex": "A tibble: 6 × 19\n\\begin{tabular}{lllllllllllllllllll}\n year & month & day & dep\\_time & sched\\_dep\\_time & dep\\_delay & arr\\_time & sched\\_arr\\_time & arr\\_delay & carrier & flight & tailnum & origin & dest & air\\_time & distance & hour & minute & time\\_hour\\\\\n <int> & <int> & <int> & <int> & <int> & <dbl> & <int> & <int> & <dbl> & <chr> & <int> & <chr> & <chr> & <chr> & <dbl> & <dbl> & <dbl> & <dbl> & <dttm>\\\\\n\\hline\n\t 2013 & 12 & 25 & 456 & 500 & -4 &  649 &  651 &  -2 & US & 1895 & N156UW & EWR & CLT &  98 &  529 & 5 &  0 & 2013-12-25 05:00:00\\\\\n\t 2013 & 12 & 25 & 524 & 515 &  9 &  805 &  814 &  -9 & UA & 1016 & N32404 & EWR & IAH & 203 & 1400 & 5 & 15 & 2013-12-25 05:00:00\\\\\n\t 2013 & 12 & 25 & 542 & 540 &  2 &  832 &  850 & -18 & AA & 2243 & N5EBAA & JFK & MIA & 146 & 1089 & 5 & 40 & 2013-12-25 05:00:00\\\\\n\t 2013 & 12 & 25 & 546 & 550 & -4 & 1022 & 1027 &  -5 & B6 &  939 & N665JB & JFK & BQN & 191 & 1576 & 5 & 50 & 2013-12-25 05:00:00\\\\\n\t 2013 & 12 & 25 & 556 & 600 & -4 &  730 &  745 & -15 & AA &  301 & N3JLAA & LGA & ORD & 123 &  733 & 6 &  0 & 2013-12-25 06:00:00\\\\\n\t 2013 & 12 & 25 & 557 & 600 & -3 &  743 &  752 &  -9 & DL &  731 & N369NB & LGA & DTW &  88 &  502 & 6 &  0 & 2013-12-25 06:00:00\\\\\n\\end{tabular}\n",
            "text/markdown": "\nA tibble: 6 × 19\n\n| year &lt;int&gt; | month &lt;int&gt; | day &lt;int&gt; | dep_time &lt;int&gt; | sched_dep_time &lt;int&gt; | dep_delay &lt;dbl&gt; | arr_time &lt;int&gt; | sched_arr_time &lt;int&gt; | arr_delay &lt;dbl&gt; | carrier &lt;chr&gt; | flight &lt;int&gt; | tailnum &lt;chr&gt; | origin &lt;chr&gt; | dest &lt;chr&gt; | air_time &lt;dbl&gt; | distance &lt;dbl&gt; | hour &lt;dbl&gt; | minute &lt;dbl&gt; | time_hour &lt;dttm&gt; |\n|---|---|---|---|---|---|---|---|---|---|---|---|---|---|---|---|---|---|---|\n| 2013 | 12 | 25 | 456 | 500 | -4 |  649 |  651 |  -2 | US | 1895 | N156UW | EWR | CLT |  98 |  529 | 5 |  0 | 2013-12-25 05:00:00 |\n| 2013 | 12 | 25 | 524 | 515 |  9 |  805 |  814 |  -9 | UA | 1016 | N32404 | EWR | IAH | 203 | 1400 | 5 | 15 | 2013-12-25 05:00:00 |\n| 2013 | 12 | 25 | 542 | 540 |  2 |  832 |  850 | -18 | AA | 2243 | N5EBAA | JFK | MIA | 146 | 1089 | 5 | 40 | 2013-12-25 05:00:00 |\n| 2013 | 12 | 25 | 546 | 550 | -4 | 1022 | 1027 |  -5 | B6 |  939 | N665JB | JFK | BQN | 191 | 1576 | 5 | 50 | 2013-12-25 05:00:00 |\n| 2013 | 12 | 25 | 556 | 600 | -4 |  730 |  745 | -15 | AA |  301 | N3JLAA | LGA | ORD | 123 |  733 | 6 |  0 | 2013-12-25 06:00:00 |\n| 2013 | 12 | 25 | 557 | 600 | -3 |  743 |  752 |  -9 | DL |  731 | N369NB | LGA | DTW |  88 |  502 | 6 |  0 | 2013-12-25 06:00:00 |\n\n",
            "text/html": [
              "<table class=\"dataframe\">\n",
              "<caption>A tibble: 6 × 19</caption>\n",
              "<thead>\n",
              "\t<tr><th scope=col>year</th><th scope=col>month</th><th scope=col>day</th><th scope=col>dep_time</th><th scope=col>sched_dep_time</th><th scope=col>dep_delay</th><th scope=col>arr_time</th><th scope=col>sched_arr_time</th><th scope=col>arr_delay</th><th scope=col>carrier</th><th scope=col>flight</th><th scope=col>tailnum</th><th scope=col>origin</th><th scope=col>dest</th><th scope=col>air_time</th><th scope=col>distance</th><th scope=col>hour</th><th scope=col>minute</th><th scope=col>time_hour</th></tr>\n",
              "\t<tr><th scope=col>&lt;int&gt;</th><th scope=col>&lt;int&gt;</th><th scope=col>&lt;int&gt;</th><th scope=col>&lt;int&gt;</th><th scope=col>&lt;int&gt;</th><th scope=col>&lt;dbl&gt;</th><th scope=col>&lt;int&gt;</th><th scope=col>&lt;int&gt;</th><th scope=col>&lt;dbl&gt;</th><th scope=col>&lt;chr&gt;</th><th scope=col>&lt;int&gt;</th><th scope=col>&lt;chr&gt;</th><th scope=col>&lt;chr&gt;</th><th scope=col>&lt;chr&gt;</th><th scope=col>&lt;dbl&gt;</th><th scope=col>&lt;dbl&gt;</th><th scope=col>&lt;dbl&gt;</th><th scope=col>&lt;dbl&gt;</th><th scope=col>&lt;dttm&gt;</th></tr>\n",
              "</thead>\n",
              "<tbody>\n",
              "\t<tr><td>2013</td><td>12</td><td>25</td><td>456</td><td>500</td><td>-4</td><td> 649</td><td> 651</td><td> -2</td><td>US</td><td>1895</td><td>N156UW</td><td>EWR</td><td>CLT</td><td> 98</td><td> 529</td><td>5</td><td> 0</td><td>2013-12-25 05:00:00</td></tr>\n",
              "\t<tr><td>2013</td><td>12</td><td>25</td><td>524</td><td>515</td><td> 9</td><td> 805</td><td> 814</td><td> -9</td><td>UA</td><td>1016</td><td>N32404</td><td>EWR</td><td>IAH</td><td>203</td><td>1400</td><td>5</td><td>15</td><td>2013-12-25 05:00:00</td></tr>\n",
              "\t<tr><td>2013</td><td>12</td><td>25</td><td>542</td><td>540</td><td> 2</td><td> 832</td><td> 850</td><td>-18</td><td>AA</td><td>2243</td><td>N5EBAA</td><td>JFK</td><td>MIA</td><td>146</td><td>1089</td><td>5</td><td>40</td><td>2013-12-25 05:00:00</td></tr>\n",
              "\t<tr><td>2013</td><td>12</td><td>25</td><td>546</td><td>550</td><td>-4</td><td>1022</td><td>1027</td><td> -5</td><td>B6</td><td> 939</td><td>N665JB</td><td>JFK</td><td>BQN</td><td>191</td><td>1576</td><td>5</td><td>50</td><td>2013-12-25 05:00:00</td></tr>\n",
              "\t<tr><td>2013</td><td>12</td><td>25</td><td>556</td><td>600</td><td>-4</td><td> 730</td><td> 745</td><td>-15</td><td>AA</td><td> 301</td><td>N3JLAA</td><td>LGA</td><td>ORD</td><td>123</td><td> 733</td><td>6</td><td> 0</td><td>2013-12-25 06:00:00</td></tr>\n",
              "\t<tr><td>2013</td><td>12</td><td>25</td><td>557</td><td>600</td><td>-3</td><td> 743</td><td> 752</td><td> -9</td><td>DL</td><td> 731</td><td>N369NB</td><td>LGA</td><td>DTW</td><td> 88</td><td> 502</td><td>6</td><td> 0</td><td>2013-12-25 06:00:00</td></tr>\n",
              "</tbody>\n",
              "</table>\n"
            ]
          },
          "metadata": {
            "tags": []
          }
        }
      ]
    },
    {
      "cell_type": "code",
      "metadata": {
        "colab": {
          "base_uri": "https://localhost:8080/",
          "height": 443
        },
        "id": "3P5NOZlJzDkM",
        "outputId": "e676e17c-55b0-49e2-fe1e-e46e0ee3e134"
      },
      "source": [
        "flights %>% filter(month==12, day==25) %>% filter(dest == 'DTW') %>% head(5)"
      ],
      "execution_count": 13,
      "outputs": [
        {
          "output_type": "display_data",
          "data": {
            "text/plain": [
              "  year month day dep_time sched_dep_time dep_delay arr_time sched_arr_time\n",
              "1 2013 12    25  557      600            -3         743      752          \n",
              "2 2013 12    25  740      740             0         945      959          \n",
              "3 2013 12    25  855      855             0        1046     1100          \n",
              "4 2013 12    25  901      905            -4        1058     1113          \n",
              "5 2013 12    25  909      912            -3        1103     1118          \n",
              "  arr_delay carrier flight tailnum origin dest air_time distance hour minute\n",
              "1  -9       DL       731   N369NB  LGA    DTW  88       502      6     0    \n",
              "2 -14       9E      2916   N935XJ  JFK    DTW  94       509      7    40    \n",
              "3 -14       MQ      3478   N806MQ  LGA    DTW  87       502      8    55    \n",
              "4 -15       DL       181   N916DL  LGA    DTW  97       502      9     5    \n",
              "5 -15       DL      1807   N989AT  EWR    DTW  91       488      9    12    \n",
              "  time_hour          \n",
              "1 2013-12-25 06:00:00\n",
              "2 2013-12-25 07:00:00\n",
              "3 2013-12-25 08:00:00\n",
              "4 2013-12-25 09:00:00\n",
              "5 2013-12-25 09:00:00"
            ],
            "text/latex": "A tibble: 5 × 19\n\\begin{tabular}{lllllllllllllllllll}\n year & month & day & dep\\_time & sched\\_dep\\_time & dep\\_delay & arr\\_time & sched\\_arr\\_time & arr\\_delay & carrier & flight & tailnum & origin & dest & air\\_time & distance & hour & minute & time\\_hour\\\\\n <int> & <int> & <int> & <int> & <int> & <dbl> & <int> & <int> & <dbl> & <chr> & <int> & <chr> & <chr> & <chr> & <dbl> & <dbl> & <dbl> & <dbl> & <dttm>\\\\\n\\hline\n\t 2013 & 12 & 25 & 557 & 600 & -3 &  743 &  752 &  -9 & DL &  731 & N369NB & LGA & DTW & 88 & 502 & 6 &  0 & 2013-12-25 06:00:00\\\\\n\t 2013 & 12 & 25 & 740 & 740 &  0 &  945 &  959 & -14 & 9E & 2916 & N935XJ & JFK & DTW & 94 & 509 & 7 & 40 & 2013-12-25 07:00:00\\\\\n\t 2013 & 12 & 25 & 855 & 855 &  0 & 1046 & 1100 & -14 & MQ & 3478 & N806MQ & LGA & DTW & 87 & 502 & 8 & 55 & 2013-12-25 08:00:00\\\\\n\t 2013 & 12 & 25 & 901 & 905 & -4 & 1058 & 1113 & -15 & DL &  181 & N916DL & LGA & DTW & 97 & 502 & 9 &  5 & 2013-12-25 09:00:00\\\\\n\t 2013 & 12 & 25 & 909 & 912 & -3 & 1103 & 1118 & -15 & DL & 1807 & N989AT & EWR & DTW & 91 & 488 & 9 & 12 & 2013-12-25 09:00:00\\\\\n\\end{tabular}\n",
            "text/markdown": "\nA tibble: 5 × 19\n\n| year &lt;int&gt; | month &lt;int&gt; | day &lt;int&gt; | dep_time &lt;int&gt; | sched_dep_time &lt;int&gt; | dep_delay &lt;dbl&gt; | arr_time &lt;int&gt; | sched_arr_time &lt;int&gt; | arr_delay &lt;dbl&gt; | carrier &lt;chr&gt; | flight &lt;int&gt; | tailnum &lt;chr&gt; | origin &lt;chr&gt; | dest &lt;chr&gt; | air_time &lt;dbl&gt; | distance &lt;dbl&gt; | hour &lt;dbl&gt; | minute &lt;dbl&gt; | time_hour &lt;dttm&gt; |\n|---|---|---|---|---|---|---|---|---|---|---|---|---|---|---|---|---|---|---|\n| 2013 | 12 | 25 | 557 | 600 | -3 |  743 |  752 |  -9 | DL |  731 | N369NB | LGA | DTW | 88 | 502 | 6 |  0 | 2013-12-25 06:00:00 |\n| 2013 | 12 | 25 | 740 | 740 |  0 |  945 |  959 | -14 | 9E | 2916 | N935XJ | JFK | DTW | 94 | 509 | 7 | 40 | 2013-12-25 07:00:00 |\n| 2013 | 12 | 25 | 855 | 855 |  0 | 1046 | 1100 | -14 | MQ | 3478 | N806MQ | LGA | DTW | 87 | 502 | 8 | 55 | 2013-12-25 08:00:00 |\n| 2013 | 12 | 25 | 901 | 905 | -4 | 1058 | 1113 | -15 | DL |  181 | N916DL | LGA | DTW | 97 | 502 | 9 |  5 | 2013-12-25 09:00:00 |\n| 2013 | 12 | 25 | 909 | 912 | -3 | 1103 | 1118 | -15 | DL | 1807 | N989AT | EWR | DTW | 91 | 488 | 9 | 12 | 2013-12-25 09:00:00 |\n\n",
            "text/html": [
              "<table class=\"dataframe\">\n",
              "<caption>A tibble: 5 × 19</caption>\n",
              "<thead>\n",
              "\t<tr><th scope=col>year</th><th scope=col>month</th><th scope=col>day</th><th scope=col>dep_time</th><th scope=col>sched_dep_time</th><th scope=col>dep_delay</th><th scope=col>arr_time</th><th scope=col>sched_arr_time</th><th scope=col>arr_delay</th><th scope=col>carrier</th><th scope=col>flight</th><th scope=col>tailnum</th><th scope=col>origin</th><th scope=col>dest</th><th scope=col>air_time</th><th scope=col>distance</th><th scope=col>hour</th><th scope=col>minute</th><th scope=col>time_hour</th></tr>\n",
              "\t<tr><th scope=col>&lt;int&gt;</th><th scope=col>&lt;int&gt;</th><th scope=col>&lt;int&gt;</th><th scope=col>&lt;int&gt;</th><th scope=col>&lt;int&gt;</th><th scope=col>&lt;dbl&gt;</th><th scope=col>&lt;int&gt;</th><th scope=col>&lt;int&gt;</th><th scope=col>&lt;dbl&gt;</th><th scope=col>&lt;chr&gt;</th><th scope=col>&lt;int&gt;</th><th scope=col>&lt;chr&gt;</th><th scope=col>&lt;chr&gt;</th><th scope=col>&lt;chr&gt;</th><th scope=col>&lt;dbl&gt;</th><th scope=col>&lt;dbl&gt;</th><th scope=col>&lt;dbl&gt;</th><th scope=col>&lt;dbl&gt;</th><th scope=col>&lt;dttm&gt;</th></tr>\n",
              "</thead>\n",
              "<tbody>\n",
              "\t<tr><td>2013</td><td>12</td><td>25</td><td>557</td><td>600</td><td>-3</td><td> 743</td><td> 752</td><td> -9</td><td>DL</td><td> 731</td><td>N369NB</td><td>LGA</td><td>DTW</td><td>88</td><td>502</td><td>6</td><td> 0</td><td>2013-12-25 06:00:00</td></tr>\n",
              "\t<tr><td>2013</td><td>12</td><td>25</td><td>740</td><td>740</td><td> 0</td><td> 945</td><td> 959</td><td>-14</td><td>9E</td><td>2916</td><td>N935XJ</td><td>JFK</td><td>DTW</td><td>94</td><td>509</td><td>7</td><td>40</td><td>2013-12-25 07:00:00</td></tr>\n",
              "\t<tr><td>2013</td><td>12</td><td>25</td><td>855</td><td>855</td><td> 0</td><td>1046</td><td>1100</td><td>-14</td><td>MQ</td><td>3478</td><td>N806MQ</td><td>LGA</td><td>DTW</td><td>87</td><td>502</td><td>8</td><td>55</td><td>2013-12-25 08:00:00</td></tr>\n",
              "\t<tr><td>2013</td><td>12</td><td>25</td><td>901</td><td>905</td><td>-4</td><td>1058</td><td>1113</td><td>-15</td><td>DL</td><td> 181</td><td>N916DL</td><td>LGA</td><td>DTW</td><td>97</td><td>502</td><td>9</td><td> 5</td><td>2013-12-25 09:00:00</td></tr>\n",
              "\t<tr><td>2013</td><td>12</td><td>25</td><td>909</td><td>912</td><td>-3</td><td>1103</td><td>1118</td><td>-15</td><td>DL</td><td>1807</td><td>N989AT</td><td>EWR</td><td>DTW</td><td>91</td><td>488</td><td>9</td><td>12</td><td>2013-12-25 09:00:00</td></tr>\n",
              "</tbody>\n",
              "</table>\n"
            ]
          },
          "metadata": {
            "tags": []
          }
        }
      ]
    },
    {
      "cell_type": "code",
      "metadata": {
        "colab": {
          "base_uri": "https://localhost:8080/",
          "height": 443
        },
        "id": "QqodiP48Httb",
        "outputId": "4210d6a9-f7ec-4237-d4e7-10d84166f734"
      },
      "source": [
        "flights %>% filter(month==12 & day==25 & dest=='DTW') %>% head(5)"
      ],
      "execution_count": 14,
      "outputs": [
        {
          "output_type": "display_data",
          "data": {
            "text/plain": [
              "  year month day dep_time sched_dep_time dep_delay arr_time sched_arr_time\n",
              "1 2013 12    25  557      600            -3         743      752          \n",
              "2 2013 12    25  740      740             0         945      959          \n",
              "3 2013 12    25  855      855             0        1046     1100          \n",
              "4 2013 12    25  901      905            -4        1058     1113          \n",
              "5 2013 12    25  909      912            -3        1103     1118          \n",
              "  arr_delay carrier flight tailnum origin dest air_time distance hour minute\n",
              "1  -9       DL       731   N369NB  LGA    DTW  88       502      6     0    \n",
              "2 -14       9E      2916   N935XJ  JFK    DTW  94       509      7    40    \n",
              "3 -14       MQ      3478   N806MQ  LGA    DTW  87       502      8    55    \n",
              "4 -15       DL       181   N916DL  LGA    DTW  97       502      9     5    \n",
              "5 -15       DL      1807   N989AT  EWR    DTW  91       488      9    12    \n",
              "  time_hour          \n",
              "1 2013-12-25 06:00:00\n",
              "2 2013-12-25 07:00:00\n",
              "3 2013-12-25 08:00:00\n",
              "4 2013-12-25 09:00:00\n",
              "5 2013-12-25 09:00:00"
            ],
            "text/latex": "A tibble: 5 × 19\n\\begin{tabular}{lllllllllllllllllll}\n year & month & day & dep\\_time & sched\\_dep\\_time & dep\\_delay & arr\\_time & sched\\_arr\\_time & arr\\_delay & carrier & flight & tailnum & origin & dest & air\\_time & distance & hour & minute & time\\_hour\\\\\n <int> & <int> & <int> & <int> & <int> & <dbl> & <int> & <int> & <dbl> & <chr> & <int> & <chr> & <chr> & <chr> & <dbl> & <dbl> & <dbl> & <dbl> & <dttm>\\\\\n\\hline\n\t 2013 & 12 & 25 & 557 & 600 & -3 &  743 &  752 &  -9 & DL &  731 & N369NB & LGA & DTW & 88 & 502 & 6 &  0 & 2013-12-25 06:00:00\\\\\n\t 2013 & 12 & 25 & 740 & 740 &  0 &  945 &  959 & -14 & 9E & 2916 & N935XJ & JFK & DTW & 94 & 509 & 7 & 40 & 2013-12-25 07:00:00\\\\\n\t 2013 & 12 & 25 & 855 & 855 &  0 & 1046 & 1100 & -14 & MQ & 3478 & N806MQ & LGA & DTW & 87 & 502 & 8 & 55 & 2013-12-25 08:00:00\\\\\n\t 2013 & 12 & 25 & 901 & 905 & -4 & 1058 & 1113 & -15 & DL &  181 & N916DL & LGA & DTW & 97 & 502 & 9 &  5 & 2013-12-25 09:00:00\\\\\n\t 2013 & 12 & 25 & 909 & 912 & -3 & 1103 & 1118 & -15 & DL & 1807 & N989AT & EWR & DTW & 91 & 488 & 9 & 12 & 2013-12-25 09:00:00\\\\\n\\end{tabular}\n",
            "text/markdown": "\nA tibble: 5 × 19\n\n| year &lt;int&gt; | month &lt;int&gt; | day &lt;int&gt; | dep_time &lt;int&gt; | sched_dep_time &lt;int&gt; | dep_delay &lt;dbl&gt; | arr_time &lt;int&gt; | sched_arr_time &lt;int&gt; | arr_delay &lt;dbl&gt; | carrier &lt;chr&gt; | flight &lt;int&gt; | tailnum &lt;chr&gt; | origin &lt;chr&gt; | dest &lt;chr&gt; | air_time &lt;dbl&gt; | distance &lt;dbl&gt; | hour &lt;dbl&gt; | minute &lt;dbl&gt; | time_hour &lt;dttm&gt; |\n|---|---|---|---|---|---|---|---|---|---|---|---|---|---|---|---|---|---|---|\n| 2013 | 12 | 25 | 557 | 600 | -3 |  743 |  752 |  -9 | DL |  731 | N369NB | LGA | DTW | 88 | 502 | 6 |  0 | 2013-12-25 06:00:00 |\n| 2013 | 12 | 25 | 740 | 740 |  0 |  945 |  959 | -14 | 9E | 2916 | N935XJ | JFK | DTW | 94 | 509 | 7 | 40 | 2013-12-25 07:00:00 |\n| 2013 | 12 | 25 | 855 | 855 |  0 | 1046 | 1100 | -14 | MQ | 3478 | N806MQ | LGA | DTW | 87 | 502 | 8 | 55 | 2013-12-25 08:00:00 |\n| 2013 | 12 | 25 | 901 | 905 | -4 | 1058 | 1113 | -15 | DL |  181 | N916DL | LGA | DTW | 97 | 502 | 9 |  5 | 2013-12-25 09:00:00 |\n| 2013 | 12 | 25 | 909 | 912 | -3 | 1103 | 1118 | -15 | DL | 1807 | N989AT | EWR | DTW | 91 | 488 | 9 | 12 | 2013-12-25 09:00:00 |\n\n",
            "text/html": [
              "<table class=\"dataframe\">\n",
              "<caption>A tibble: 5 × 19</caption>\n",
              "<thead>\n",
              "\t<tr><th scope=col>year</th><th scope=col>month</th><th scope=col>day</th><th scope=col>dep_time</th><th scope=col>sched_dep_time</th><th scope=col>dep_delay</th><th scope=col>arr_time</th><th scope=col>sched_arr_time</th><th scope=col>arr_delay</th><th scope=col>carrier</th><th scope=col>flight</th><th scope=col>tailnum</th><th scope=col>origin</th><th scope=col>dest</th><th scope=col>air_time</th><th scope=col>distance</th><th scope=col>hour</th><th scope=col>minute</th><th scope=col>time_hour</th></tr>\n",
              "\t<tr><th scope=col>&lt;int&gt;</th><th scope=col>&lt;int&gt;</th><th scope=col>&lt;int&gt;</th><th scope=col>&lt;int&gt;</th><th scope=col>&lt;int&gt;</th><th scope=col>&lt;dbl&gt;</th><th scope=col>&lt;int&gt;</th><th scope=col>&lt;int&gt;</th><th scope=col>&lt;dbl&gt;</th><th scope=col>&lt;chr&gt;</th><th scope=col>&lt;int&gt;</th><th scope=col>&lt;chr&gt;</th><th scope=col>&lt;chr&gt;</th><th scope=col>&lt;chr&gt;</th><th scope=col>&lt;dbl&gt;</th><th scope=col>&lt;dbl&gt;</th><th scope=col>&lt;dbl&gt;</th><th scope=col>&lt;dbl&gt;</th><th scope=col>&lt;dttm&gt;</th></tr>\n",
              "</thead>\n",
              "<tbody>\n",
              "\t<tr><td>2013</td><td>12</td><td>25</td><td>557</td><td>600</td><td>-3</td><td> 743</td><td> 752</td><td> -9</td><td>DL</td><td> 731</td><td>N369NB</td><td>LGA</td><td>DTW</td><td>88</td><td>502</td><td>6</td><td> 0</td><td>2013-12-25 06:00:00</td></tr>\n",
              "\t<tr><td>2013</td><td>12</td><td>25</td><td>740</td><td>740</td><td> 0</td><td> 945</td><td> 959</td><td>-14</td><td>9E</td><td>2916</td><td>N935XJ</td><td>JFK</td><td>DTW</td><td>94</td><td>509</td><td>7</td><td>40</td><td>2013-12-25 07:00:00</td></tr>\n",
              "\t<tr><td>2013</td><td>12</td><td>25</td><td>855</td><td>855</td><td> 0</td><td>1046</td><td>1100</td><td>-14</td><td>MQ</td><td>3478</td><td>N806MQ</td><td>LGA</td><td>DTW</td><td>87</td><td>502</td><td>8</td><td>55</td><td>2013-12-25 08:00:00</td></tr>\n",
              "\t<tr><td>2013</td><td>12</td><td>25</td><td>901</td><td>905</td><td>-4</td><td>1058</td><td>1113</td><td>-15</td><td>DL</td><td> 181</td><td>N916DL</td><td>LGA</td><td>DTW</td><td>97</td><td>502</td><td>9</td><td> 5</td><td>2013-12-25 09:00:00</td></tr>\n",
              "\t<tr><td>2013</td><td>12</td><td>25</td><td>909</td><td>912</td><td>-3</td><td>1103</td><td>1118</td><td>-15</td><td>DL</td><td>1807</td><td>N989AT</td><td>EWR</td><td>DTW</td><td>91</td><td>488</td><td>9</td><td>12</td><td>2013-12-25 09:00:00</td></tr>\n",
              "</tbody>\n",
              "</table>\n"
            ]
          },
          "metadata": {
            "tags": []
          }
        }
      ]
    },
    {
      "cell_type": "code",
      "metadata": {
        "colab": {
          "base_uri": "https://localhost:8080/",
          "height": 443
        },
        "id": "GJNtHWIYKgX-",
        "outputId": "2128b0f5-d307-4a2c-84b4-3ff846180d01"
      },
      "source": [
        "flights %>% filter(month==12, day==25, dest %in% c('DTW','LAS')) %>% head(5)"
      ],
      "execution_count": 15,
      "outputs": [
        {
          "output_type": "display_data",
          "data": {
            "text/plain": [
              "  year month day dep_time sched_dep_time dep_delay arr_time sched_arr_time\n",
              "1 2013 12    25  557      600            -3         743      752          \n",
              "2 2013 12    25  653      655            -2         941      940          \n",
              "3 2013 12    25  740      740             0         945      959          \n",
              "4 2013 12    25  855      855             0        1046     1100          \n",
              "5 2013 12    25  901      905            -4        1058     1113          \n",
              "  arr_delay carrier flight tailnum origin dest air_time distance hour minute\n",
              "1  -9       DL       731   N369NB  LGA    DTW   88       502     6     0    \n",
              "2   1       AA      1263   N3KXAA  JFK    LAS  316      2248     6    55    \n",
              "3 -14       9E      2916   N935XJ  JFK    DTW   94       509     7    40    \n",
              "4 -14       MQ      3478   N806MQ  LGA    DTW   87       502     8    55    \n",
              "5 -15       DL       181   N916DL  LGA    DTW   97       502     9     5    \n",
              "  time_hour          \n",
              "1 2013-12-25 06:00:00\n",
              "2 2013-12-25 06:00:00\n",
              "3 2013-12-25 07:00:00\n",
              "4 2013-12-25 08:00:00\n",
              "5 2013-12-25 09:00:00"
            ],
            "text/latex": "A tibble: 5 × 19\n\\begin{tabular}{lllllllllllllllllll}\n year & month & day & dep\\_time & sched\\_dep\\_time & dep\\_delay & arr\\_time & sched\\_arr\\_time & arr\\_delay & carrier & flight & tailnum & origin & dest & air\\_time & distance & hour & minute & time\\_hour\\\\\n <int> & <int> & <int> & <int> & <int> & <dbl> & <int> & <int> & <dbl> & <chr> & <int> & <chr> & <chr> & <chr> & <dbl> & <dbl> & <dbl> & <dbl> & <dttm>\\\\\n\\hline\n\t 2013 & 12 & 25 & 557 & 600 & -3 &  743 &  752 &  -9 & DL &  731 & N369NB & LGA & DTW &  88 &  502 & 6 &  0 & 2013-12-25 06:00:00\\\\\n\t 2013 & 12 & 25 & 653 & 655 & -2 &  941 &  940 &   1 & AA & 1263 & N3KXAA & JFK & LAS & 316 & 2248 & 6 & 55 & 2013-12-25 06:00:00\\\\\n\t 2013 & 12 & 25 & 740 & 740 &  0 &  945 &  959 & -14 & 9E & 2916 & N935XJ & JFK & DTW &  94 &  509 & 7 & 40 & 2013-12-25 07:00:00\\\\\n\t 2013 & 12 & 25 & 855 & 855 &  0 & 1046 & 1100 & -14 & MQ & 3478 & N806MQ & LGA & DTW &  87 &  502 & 8 & 55 & 2013-12-25 08:00:00\\\\\n\t 2013 & 12 & 25 & 901 & 905 & -4 & 1058 & 1113 & -15 & DL &  181 & N916DL & LGA & DTW &  97 &  502 & 9 &  5 & 2013-12-25 09:00:00\\\\\n\\end{tabular}\n",
            "text/markdown": "\nA tibble: 5 × 19\n\n| year &lt;int&gt; | month &lt;int&gt; | day &lt;int&gt; | dep_time &lt;int&gt; | sched_dep_time &lt;int&gt; | dep_delay &lt;dbl&gt; | arr_time &lt;int&gt; | sched_arr_time &lt;int&gt; | arr_delay &lt;dbl&gt; | carrier &lt;chr&gt; | flight &lt;int&gt; | tailnum &lt;chr&gt; | origin &lt;chr&gt; | dest &lt;chr&gt; | air_time &lt;dbl&gt; | distance &lt;dbl&gt; | hour &lt;dbl&gt; | minute &lt;dbl&gt; | time_hour &lt;dttm&gt; |\n|---|---|---|---|---|---|---|---|---|---|---|---|---|---|---|---|---|---|---|\n| 2013 | 12 | 25 | 557 | 600 | -3 |  743 |  752 |  -9 | DL |  731 | N369NB | LGA | DTW |  88 |  502 | 6 |  0 | 2013-12-25 06:00:00 |\n| 2013 | 12 | 25 | 653 | 655 | -2 |  941 |  940 |   1 | AA | 1263 | N3KXAA | JFK | LAS | 316 | 2248 | 6 | 55 | 2013-12-25 06:00:00 |\n| 2013 | 12 | 25 | 740 | 740 |  0 |  945 |  959 | -14 | 9E | 2916 | N935XJ | JFK | DTW |  94 |  509 | 7 | 40 | 2013-12-25 07:00:00 |\n| 2013 | 12 | 25 | 855 | 855 |  0 | 1046 | 1100 | -14 | MQ | 3478 | N806MQ | LGA | DTW |  87 |  502 | 8 | 55 | 2013-12-25 08:00:00 |\n| 2013 | 12 | 25 | 901 | 905 | -4 | 1058 | 1113 | -15 | DL |  181 | N916DL | LGA | DTW |  97 |  502 | 9 |  5 | 2013-12-25 09:00:00 |\n\n",
            "text/html": [
              "<table class=\"dataframe\">\n",
              "<caption>A tibble: 5 × 19</caption>\n",
              "<thead>\n",
              "\t<tr><th scope=col>year</th><th scope=col>month</th><th scope=col>day</th><th scope=col>dep_time</th><th scope=col>sched_dep_time</th><th scope=col>dep_delay</th><th scope=col>arr_time</th><th scope=col>sched_arr_time</th><th scope=col>arr_delay</th><th scope=col>carrier</th><th scope=col>flight</th><th scope=col>tailnum</th><th scope=col>origin</th><th scope=col>dest</th><th scope=col>air_time</th><th scope=col>distance</th><th scope=col>hour</th><th scope=col>minute</th><th scope=col>time_hour</th></tr>\n",
              "\t<tr><th scope=col>&lt;int&gt;</th><th scope=col>&lt;int&gt;</th><th scope=col>&lt;int&gt;</th><th scope=col>&lt;int&gt;</th><th scope=col>&lt;int&gt;</th><th scope=col>&lt;dbl&gt;</th><th scope=col>&lt;int&gt;</th><th scope=col>&lt;int&gt;</th><th scope=col>&lt;dbl&gt;</th><th scope=col>&lt;chr&gt;</th><th scope=col>&lt;int&gt;</th><th scope=col>&lt;chr&gt;</th><th scope=col>&lt;chr&gt;</th><th scope=col>&lt;chr&gt;</th><th scope=col>&lt;dbl&gt;</th><th scope=col>&lt;dbl&gt;</th><th scope=col>&lt;dbl&gt;</th><th scope=col>&lt;dbl&gt;</th><th scope=col>&lt;dttm&gt;</th></tr>\n",
              "</thead>\n",
              "<tbody>\n",
              "\t<tr><td>2013</td><td>12</td><td>25</td><td>557</td><td>600</td><td>-3</td><td> 743</td><td> 752</td><td> -9</td><td>DL</td><td> 731</td><td>N369NB</td><td>LGA</td><td>DTW</td><td> 88</td><td> 502</td><td>6</td><td> 0</td><td>2013-12-25 06:00:00</td></tr>\n",
              "\t<tr><td>2013</td><td>12</td><td>25</td><td>653</td><td>655</td><td>-2</td><td> 941</td><td> 940</td><td>  1</td><td>AA</td><td>1263</td><td>N3KXAA</td><td>JFK</td><td>LAS</td><td>316</td><td>2248</td><td>6</td><td>55</td><td>2013-12-25 06:00:00</td></tr>\n",
              "\t<tr><td>2013</td><td>12</td><td>25</td><td>740</td><td>740</td><td> 0</td><td> 945</td><td> 959</td><td>-14</td><td>9E</td><td>2916</td><td>N935XJ</td><td>JFK</td><td>DTW</td><td> 94</td><td> 509</td><td>7</td><td>40</td><td>2013-12-25 07:00:00</td></tr>\n",
              "\t<tr><td>2013</td><td>12</td><td>25</td><td>855</td><td>855</td><td> 0</td><td>1046</td><td>1100</td><td>-14</td><td>MQ</td><td>3478</td><td>N806MQ</td><td>LGA</td><td>DTW</td><td> 87</td><td> 502</td><td>8</td><td>55</td><td>2013-12-25 08:00:00</td></tr>\n",
              "\t<tr><td>2013</td><td>12</td><td>25</td><td>901</td><td>905</td><td>-4</td><td>1058</td><td>1113</td><td>-15</td><td>DL</td><td> 181</td><td>N916DL</td><td>LGA</td><td>DTW</td><td> 97</td><td> 502</td><td>9</td><td> 5</td><td>2013-12-25 09:00:00</td></tr>\n",
              "</tbody>\n",
              "</table>\n"
            ]
          },
          "metadata": {
            "tags": []
          }
        }
      ]
    },
    {
      "cell_type": "markdown",
      "metadata": {
        "id": "56zw3UhvK9-k"
      },
      "source": [
        "## Arrange rows with arrange()"
      ]
    },
    {
      "cell_type": "code",
      "metadata": {
        "colab": {
          "base_uri": "https://localhost:8080/",
          "height": 443
        },
        "id": "m6QT4Fy1LBv-",
        "outputId": "d6b0b39d-5bf9-462c-bef5-232c6cf4bbf6"
      },
      "source": [
        "arrange(flights, month,day,dep_time, sched_dep_time, dep_delay) %>% head(5)"
      ],
      "execution_count": 20,
      "outputs": [
        {
          "output_type": "display_data",
          "data": {
            "text/plain": [
              "  year month day dep_time sched_dep_time dep_delay arr_time sched_arr_time\n",
              "1 2013 1     1   517      515             2         830      819          \n",
              "2 2013 1     1   533      529             4         850      830          \n",
              "3 2013 1     1   542      540             2         923      850          \n",
              "4 2013 1     1   544      545            -1        1004     1022          \n",
              "5 2013 1     1   554      558            -4         740      728          \n",
              "  arr_delay carrier flight tailnum origin dest air_time distance hour minute\n",
              "1  11       UA      1545   N14228  EWR    IAH  227      1400     5    15    \n",
              "2  20       UA      1714   N24211  LGA    IAH  227      1416     5    29    \n",
              "3  33       AA      1141   N619AA  JFK    MIA  160      1089     5    40    \n",
              "4 -18       B6       725   N804JB  JFK    BQN  183      1576     5    45    \n",
              "5  12       UA      1696   N39463  EWR    ORD  150       719     5    58    \n",
              "  time_hour          \n",
              "1 2013-01-01 05:00:00\n",
              "2 2013-01-01 05:00:00\n",
              "3 2013-01-01 05:00:00\n",
              "4 2013-01-01 05:00:00\n",
              "5 2013-01-01 05:00:00"
            ],
            "text/latex": "A tibble: 5 × 19\n\\begin{tabular}{lllllllllllllllllll}\n year & month & day & dep\\_time & sched\\_dep\\_time & dep\\_delay & arr\\_time & sched\\_arr\\_time & arr\\_delay & carrier & flight & tailnum & origin & dest & air\\_time & distance & hour & minute & time\\_hour\\\\\n <int> & <int> & <int> & <int> & <int> & <dbl> & <int> & <int> & <dbl> & <chr> & <int> & <chr> & <chr> & <chr> & <dbl> & <dbl> & <dbl> & <dbl> & <dttm>\\\\\n\\hline\n\t 2013 & 1 & 1 & 517 & 515 &  2 &  830 &  819 &  11 & UA & 1545 & N14228 & EWR & IAH & 227 & 1400 & 5 & 15 & 2013-01-01 05:00:00\\\\\n\t 2013 & 1 & 1 & 533 & 529 &  4 &  850 &  830 &  20 & UA & 1714 & N24211 & LGA & IAH & 227 & 1416 & 5 & 29 & 2013-01-01 05:00:00\\\\\n\t 2013 & 1 & 1 & 542 & 540 &  2 &  923 &  850 &  33 & AA & 1141 & N619AA & JFK & MIA & 160 & 1089 & 5 & 40 & 2013-01-01 05:00:00\\\\\n\t 2013 & 1 & 1 & 544 & 545 & -1 & 1004 & 1022 & -18 & B6 &  725 & N804JB & JFK & BQN & 183 & 1576 & 5 & 45 & 2013-01-01 05:00:00\\\\\n\t 2013 & 1 & 1 & 554 & 558 & -4 &  740 &  728 &  12 & UA & 1696 & N39463 & EWR & ORD & 150 &  719 & 5 & 58 & 2013-01-01 05:00:00\\\\\n\\end{tabular}\n",
            "text/markdown": "\nA tibble: 5 × 19\n\n| year &lt;int&gt; | month &lt;int&gt; | day &lt;int&gt; | dep_time &lt;int&gt; | sched_dep_time &lt;int&gt; | dep_delay &lt;dbl&gt; | arr_time &lt;int&gt; | sched_arr_time &lt;int&gt; | arr_delay &lt;dbl&gt; | carrier &lt;chr&gt; | flight &lt;int&gt; | tailnum &lt;chr&gt; | origin &lt;chr&gt; | dest &lt;chr&gt; | air_time &lt;dbl&gt; | distance &lt;dbl&gt; | hour &lt;dbl&gt; | minute &lt;dbl&gt; | time_hour &lt;dttm&gt; |\n|---|---|---|---|---|---|---|---|---|---|---|---|---|---|---|---|---|---|---|\n| 2013 | 1 | 1 | 517 | 515 |  2 |  830 |  819 |  11 | UA | 1545 | N14228 | EWR | IAH | 227 | 1400 | 5 | 15 | 2013-01-01 05:00:00 |\n| 2013 | 1 | 1 | 533 | 529 |  4 |  850 |  830 |  20 | UA | 1714 | N24211 | LGA | IAH | 227 | 1416 | 5 | 29 | 2013-01-01 05:00:00 |\n| 2013 | 1 | 1 | 542 | 540 |  2 |  923 |  850 |  33 | AA | 1141 | N619AA | JFK | MIA | 160 | 1089 | 5 | 40 | 2013-01-01 05:00:00 |\n| 2013 | 1 | 1 | 544 | 545 | -1 | 1004 | 1022 | -18 | B6 |  725 | N804JB | JFK | BQN | 183 | 1576 | 5 | 45 | 2013-01-01 05:00:00 |\n| 2013 | 1 | 1 | 554 | 558 | -4 |  740 |  728 |  12 | UA | 1696 | N39463 | EWR | ORD | 150 |  719 | 5 | 58 | 2013-01-01 05:00:00 |\n\n",
            "text/html": [
              "<table class=\"dataframe\">\n",
              "<caption>A tibble: 5 × 19</caption>\n",
              "<thead>\n",
              "\t<tr><th scope=col>year</th><th scope=col>month</th><th scope=col>day</th><th scope=col>dep_time</th><th scope=col>sched_dep_time</th><th scope=col>dep_delay</th><th scope=col>arr_time</th><th scope=col>sched_arr_time</th><th scope=col>arr_delay</th><th scope=col>carrier</th><th scope=col>flight</th><th scope=col>tailnum</th><th scope=col>origin</th><th scope=col>dest</th><th scope=col>air_time</th><th scope=col>distance</th><th scope=col>hour</th><th scope=col>minute</th><th scope=col>time_hour</th></tr>\n",
              "\t<tr><th scope=col>&lt;int&gt;</th><th scope=col>&lt;int&gt;</th><th scope=col>&lt;int&gt;</th><th scope=col>&lt;int&gt;</th><th scope=col>&lt;int&gt;</th><th scope=col>&lt;dbl&gt;</th><th scope=col>&lt;int&gt;</th><th scope=col>&lt;int&gt;</th><th scope=col>&lt;dbl&gt;</th><th scope=col>&lt;chr&gt;</th><th scope=col>&lt;int&gt;</th><th scope=col>&lt;chr&gt;</th><th scope=col>&lt;chr&gt;</th><th scope=col>&lt;chr&gt;</th><th scope=col>&lt;dbl&gt;</th><th scope=col>&lt;dbl&gt;</th><th scope=col>&lt;dbl&gt;</th><th scope=col>&lt;dbl&gt;</th><th scope=col>&lt;dttm&gt;</th></tr>\n",
              "</thead>\n",
              "<tbody>\n",
              "\t<tr><td>2013</td><td>1</td><td>1</td><td>517</td><td>515</td><td> 2</td><td> 830</td><td> 819</td><td> 11</td><td>UA</td><td>1545</td><td>N14228</td><td>EWR</td><td>IAH</td><td>227</td><td>1400</td><td>5</td><td>15</td><td>2013-01-01 05:00:00</td></tr>\n",
              "\t<tr><td>2013</td><td>1</td><td>1</td><td>533</td><td>529</td><td> 4</td><td> 850</td><td> 830</td><td> 20</td><td>UA</td><td>1714</td><td>N24211</td><td>LGA</td><td>IAH</td><td>227</td><td>1416</td><td>5</td><td>29</td><td>2013-01-01 05:00:00</td></tr>\n",
              "\t<tr><td>2013</td><td>1</td><td>1</td><td>542</td><td>540</td><td> 2</td><td> 923</td><td> 850</td><td> 33</td><td>AA</td><td>1141</td><td>N619AA</td><td>JFK</td><td>MIA</td><td>160</td><td>1089</td><td>5</td><td>40</td><td>2013-01-01 05:00:00</td></tr>\n",
              "\t<tr><td>2013</td><td>1</td><td>1</td><td>544</td><td>545</td><td>-1</td><td>1004</td><td>1022</td><td>-18</td><td>B6</td><td> 725</td><td>N804JB</td><td>JFK</td><td>BQN</td><td>183</td><td>1576</td><td>5</td><td>45</td><td>2013-01-01 05:00:00</td></tr>\n",
              "\t<tr><td>2013</td><td>1</td><td>1</td><td>554</td><td>558</td><td>-4</td><td> 740</td><td> 728</td><td> 12</td><td>UA</td><td>1696</td><td>N39463</td><td>EWR</td><td>ORD</td><td>150</td><td> 719</td><td>5</td><td>58</td><td>2013-01-01 05:00:00</td></tr>\n",
              "</tbody>\n",
              "</table>\n"
            ]
          },
          "metadata": {
            "tags": []
          }
        }
      ]
    },
    {
      "cell_type": "code",
      "metadata": {
        "colab": {
          "base_uri": "https://localhost:8080/",
          "height": 443
        },
        "id": "_c64I-ZlLCT-",
        "outputId": "2dd96bcc-ec64-46df-a460-b1de7fc777b4"
      },
      "source": [
        "arrange(flights, desc(air_time)) %>% head(5)"
      ],
      "execution_count": 22,
      "outputs": [
        {
          "output_type": "display_data",
          "data": {
            "text/plain": [
              "  year month day dep_time sched_dep_time dep_delay arr_time sched_arr_time\n",
              "1 2013 3     17  1337     1335            2        1937     1836          \n",
              "2 2013 2      6   853      900           -7        1542     1540          \n",
              "3 2013 3     15  1001     1000            1        1551     1530          \n",
              "4 2013 3     17  1006     1000            6        1607     1530          \n",
              "5 2013 3     16  1001     1000            1        1544     1530          \n",
              "  arr_delay carrier flight tailnum origin dest air_time distance hour minute\n",
              "1 61        UA      15     N77066  EWR    HNL  695      4963     13   35    \n",
              "2  2        HA      51     N389HA  JFK    HNL  691      4983      9    0    \n",
              "3 21        HA      51     N388HA  JFK    HNL  686      4983     10    0    \n",
              "4 37        HA      51     N380HA  JFK    HNL  686      4983     10    0    \n",
              "5 14        HA      51     N384HA  JFK    HNL  683      4983     10    0    \n",
              "  time_hour          \n",
              "1 2013-03-17 13:00:00\n",
              "2 2013-02-06 09:00:00\n",
              "3 2013-03-15 10:00:00\n",
              "4 2013-03-17 10:00:00\n",
              "5 2013-03-16 10:00:00"
            ],
            "text/latex": "A tibble: 5 × 19\n\\begin{tabular}{lllllllllllllllllll}\n year & month & day & dep\\_time & sched\\_dep\\_time & dep\\_delay & arr\\_time & sched\\_arr\\_time & arr\\_delay & carrier & flight & tailnum & origin & dest & air\\_time & distance & hour & minute & time\\_hour\\\\\n <int> & <int> & <int> & <int> & <int> & <dbl> & <int> & <int> & <dbl> & <chr> & <int> & <chr> & <chr> & <chr> & <dbl> & <dbl> & <dbl> & <dbl> & <dttm>\\\\\n\\hline\n\t 2013 & 3 & 17 & 1337 & 1335 &  2 & 1937 & 1836 & 61 & UA & 15 & N77066 & EWR & HNL & 695 & 4963 & 13 & 35 & 2013-03-17 13:00:00\\\\\n\t 2013 & 2 &  6 &  853 &  900 & -7 & 1542 & 1540 &  2 & HA & 51 & N389HA & JFK & HNL & 691 & 4983 &  9 &  0 & 2013-02-06 09:00:00\\\\\n\t 2013 & 3 & 15 & 1001 & 1000 &  1 & 1551 & 1530 & 21 & HA & 51 & N388HA & JFK & HNL & 686 & 4983 & 10 &  0 & 2013-03-15 10:00:00\\\\\n\t 2013 & 3 & 17 & 1006 & 1000 &  6 & 1607 & 1530 & 37 & HA & 51 & N380HA & JFK & HNL & 686 & 4983 & 10 &  0 & 2013-03-17 10:00:00\\\\\n\t 2013 & 3 & 16 & 1001 & 1000 &  1 & 1544 & 1530 & 14 & HA & 51 & N384HA & JFK & HNL & 683 & 4983 & 10 &  0 & 2013-03-16 10:00:00\\\\\n\\end{tabular}\n",
            "text/markdown": "\nA tibble: 5 × 19\n\n| year &lt;int&gt; | month &lt;int&gt; | day &lt;int&gt; | dep_time &lt;int&gt; | sched_dep_time &lt;int&gt; | dep_delay &lt;dbl&gt; | arr_time &lt;int&gt; | sched_arr_time &lt;int&gt; | arr_delay &lt;dbl&gt; | carrier &lt;chr&gt; | flight &lt;int&gt; | tailnum &lt;chr&gt; | origin &lt;chr&gt; | dest &lt;chr&gt; | air_time &lt;dbl&gt; | distance &lt;dbl&gt; | hour &lt;dbl&gt; | minute &lt;dbl&gt; | time_hour &lt;dttm&gt; |\n|---|---|---|---|---|---|---|---|---|---|---|---|---|---|---|---|---|---|---|\n| 2013 | 3 | 17 | 1337 | 1335 |  2 | 1937 | 1836 | 61 | UA | 15 | N77066 | EWR | HNL | 695 | 4963 | 13 | 35 | 2013-03-17 13:00:00 |\n| 2013 | 2 |  6 |  853 |  900 | -7 | 1542 | 1540 |  2 | HA | 51 | N389HA | JFK | HNL | 691 | 4983 |  9 |  0 | 2013-02-06 09:00:00 |\n| 2013 | 3 | 15 | 1001 | 1000 |  1 | 1551 | 1530 | 21 | HA | 51 | N388HA | JFK | HNL | 686 | 4983 | 10 |  0 | 2013-03-15 10:00:00 |\n| 2013 | 3 | 17 | 1006 | 1000 |  6 | 1607 | 1530 | 37 | HA | 51 | N380HA | JFK | HNL | 686 | 4983 | 10 |  0 | 2013-03-17 10:00:00 |\n| 2013 | 3 | 16 | 1001 | 1000 |  1 | 1544 | 1530 | 14 | HA | 51 | N384HA | JFK | HNL | 683 | 4983 | 10 |  0 | 2013-03-16 10:00:00 |\n\n",
            "text/html": [
              "<table class=\"dataframe\">\n",
              "<caption>A tibble: 5 × 19</caption>\n",
              "<thead>\n",
              "\t<tr><th scope=col>year</th><th scope=col>month</th><th scope=col>day</th><th scope=col>dep_time</th><th scope=col>sched_dep_time</th><th scope=col>dep_delay</th><th scope=col>arr_time</th><th scope=col>sched_arr_time</th><th scope=col>arr_delay</th><th scope=col>carrier</th><th scope=col>flight</th><th scope=col>tailnum</th><th scope=col>origin</th><th scope=col>dest</th><th scope=col>air_time</th><th scope=col>distance</th><th scope=col>hour</th><th scope=col>minute</th><th scope=col>time_hour</th></tr>\n",
              "\t<tr><th scope=col>&lt;int&gt;</th><th scope=col>&lt;int&gt;</th><th scope=col>&lt;int&gt;</th><th scope=col>&lt;int&gt;</th><th scope=col>&lt;int&gt;</th><th scope=col>&lt;dbl&gt;</th><th scope=col>&lt;int&gt;</th><th scope=col>&lt;int&gt;</th><th scope=col>&lt;dbl&gt;</th><th scope=col>&lt;chr&gt;</th><th scope=col>&lt;int&gt;</th><th scope=col>&lt;chr&gt;</th><th scope=col>&lt;chr&gt;</th><th scope=col>&lt;chr&gt;</th><th scope=col>&lt;dbl&gt;</th><th scope=col>&lt;dbl&gt;</th><th scope=col>&lt;dbl&gt;</th><th scope=col>&lt;dbl&gt;</th><th scope=col>&lt;dttm&gt;</th></tr>\n",
              "</thead>\n",
              "<tbody>\n",
              "\t<tr><td>2013</td><td>3</td><td>17</td><td>1337</td><td>1335</td><td> 2</td><td>1937</td><td>1836</td><td>61</td><td>UA</td><td>15</td><td>N77066</td><td>EWR</td><td>HNL</td><td>695</td><td>4963</td><td>13</td><td>35</td><td>2013-03-17 13:00:00</td></tr>\n",
              "\t<tr><td>2013</td><td>2</td><td> 6</td><td> 853</td><td> 900</td><td>-7</td><td>1542</td><td>1540</td><td> 2</td><td>HA</td><td>51</td><td>N389HA</td><td>JFK</td><td>HNL</td><td>691</td><td>4983</td><td> 9</td><td> 0</td><td>2013-02-06 09:00:00</td></tr>\n",
              "\t<tr><td>2013</td><td>3</td><td>15</td><td>1001</td><td>1000</td><td> 1</td><td>1551</td><td>1530</td><td>21</td><td>HA</td><td>51</td><td>N388HA</td><td>JFK</td><td>HNL</td><td>686</td><td>4983</td><td>10</td><td> 0</td><td>2013-03-15 10:00:00</td></tr>\n",
              "\t<tr><td>2013</td><td>3</td><td>17</td><td>1006</td><td>1000</td><td> 6</td><td>1607</td><td>1530</td><td>37</td><td>HA</td><td>51</td><td>N380HA</td><td>JFK</td><td>HNL</td><td>686</td><td>4983</td><td>10</td><td> 0</td><td>2013-03-17 10:00:00</td></tr>\n",
              "\t<tr><td>2013</td><td>3</td><td>16</td><td>1001</td><td>1000</td><td> 1</td><td>1544</td><td>1530</td><td>14</td><td>HA</td><td>51</td><td>N384HA</td><td>JFK</td><td>HNL</td><td>683</td><td>4983</td><td>10</td><td> 0</td><td>2013-03-16 10:00:00</td></tr>\n",
              "</tbody>\n",
              "</table>\n"
            ]
          },
          "metadata": {
            "tags": []
          }
        }
      ]
    },
    {
      "cell_type": "markdown",
      "metadata": {
        "id": "BE9BNdODMA4M"
      },
      "source": [
        "## Select columns with select()"
      ]
    },
    {
      "cell_type": "code",
      "metadata": {
        "colab": {
          "base_uri": "https://localhost:8080/",
          "height": 250
        },
        "id": "S2GNtBPjLCrq",
        "outputId": "5ddd0d29-3bcd-4b13-9d0d-d434d820fcf5"
      },
      "source": [
        "select(flights, year:day) %>% head(5)"
      ],
      "execution_count": 23,
      "outputs": [
        {
          "output_type": "display_data",
          "data": {
            "text/plain": [
              "  year month day\n",
              "1 2013 1     1  \n",
              "2 2013 1     1  \n",
              "3 2013 1     1  \n",
              "4 2013 1     1  \n",
              "5 2013 1     1  "
            ],
            "text/latex": "A tibble: 5 × 3\n\\begin{tabular}{lll}\n year & month & day\\\\\n <int> & <int> & <int>\\\\\n\\hline\n\t 2013 & 1 & 1\\\\\n\t 2013 & 1 & 1\\\\\n\t 2013 & 1 & 1\\\\\n\t 2013 & 1 & 1\\\\\n\t 2013 & 1 & 1\\\\\n\\end{tabular}\n",
            "text/markdown": "\nA tibble: 5 × 3\n\n| year &lt;int&gt; | month &lt;int&gt; | day &lt;int&gt; |\n|---|---|---|\n| 2013 | 1 | 1 |\n| 2013 | 1 | 1 |\n| 2013 | 1 | 1 |\n| 2013 | 1 | 1 |\n| 2013 | 1 | 1 |\n\n",
            "text/html": [
              "<table class=\"dataframe\">\n",
              "<caption>A tibble: 5 × 3</caption>\n",
              "<thead>\n",
              "\t<tr><th scope=col>year</th><th scope=col>month</th><th scope=col>day</th></tr>\n",
              "\t<tr><th scope=col>&lt;int&gt;</th><th scope=col>&lt;int&gt;</th><th scope=col>&lt;int&gt;</th></tr>\n",
              "</thead>\n",
              "<tbody>\n",
              "\t<tr><td>2013</td><td>1</td><td>1</td></tr>\n",
              "\t<tr><td>2013</td><td>1</td><td>1</td></tr>\n",
              "\t<tr><td>2013</td><td>1</td><td>1</td></tr>\n",
              "\t<tr><td>2013</td><td>1</td><td>1</td></tr>\n",
              "\t<tr><td>2013</td><td>1</td><td>1</td></tr>\n",
              "</tbody>\n",
              "</table>\n"
            ]
          },
          "metadata": {
            "tags": []
          }
        }
      ]
    },
    {
      "cell_type": "code",
      "metadata": {
        "colab": {
          "base_uri": "https://localhost:8080/",
          "height": 443
        },
        "id": "o2t89BzrLDFT",
        "outputId": "c5d07579-6d8e-48ec-ac44-79ecc1429d44"
      },
      "source": [
        "select(flights, -(year:day)) %>% head(5)"
      ],
      "execution_count": 24,
      "outputs": [
        {
          "output_type": "display_data",
          "data": {
            "text/plain": [
              "  dep_time sched_dep_time dep_delay arr_time sched_arr_time arr_delay carrier\n",
              "1 517      515             2         830      819            11       UA     \n",
              "2 533      529             4         850      830            20       UA     \n",
              "3 542      540             2         923      850            33       AA     \n",
              "4 544      545            -1        1004     1022           -18       B6     \n",
              "5 554      600            -6         812      837           -25       DL     \n",
              "  flight tailnum origin dest air_time distance hour minute time_hour          \n",
              "1 1545   N14228  EWR    IAH  227      1400     5    15     2013-01-01 05:00:00\n",
              "2 1714   N24211  LGA    IAH  227      1416     5    29     2013-01-01 05:00:00\n",
              "3 1141   N619AA  JFK    MIA  160      1089     5    40     2013-01-01 05:00:00\n",
              "4  725   N804JB  JFK    BQN  183      1576     5    45     2013-01-01 05:00:00\n",
              "5  461   N668DN  LGA    ATL  116       762     6     0     2013-01-01 06:00:00"
            ],
            "text/latex": "A tibble: 5 × 16\n\\begin{tabular}{llllllllllllllll}\n dep\\_time & sched\\_dep\\_time & dep\\_delay & arr\\_time & sched\\_arr\\_time & arr\\_delay & carrier & flight & tailnum & origin & dest & air\\_time & distance & hour & minute & time\\_hour\\\\\n <int> & <int> & <dbl> & <int> & <int> & <dbl> & <chr> & <int> & <chr> & <chr> & <chr> & <dbl> & <dbl> & <dbl> & <dbl> & <dttm>\\\\\n\\hline\n\t 517 & 515 &  2 &  830 &  819 &  11 & UA & 1545 & N14228 & EWR & IAH & 227 & 1400 & 5 & 15 & 2013-01-01 05:00:00\\\\\n\t 533 & 529 &  4 &  850 &  830 &  20 & UA & 1714 & N24211 & LGA & IAH & 227 & 1416 & 5 & 29 & 2013-01-01 05:00:00\\\\\n\t 542 & 540 &  2 &  923 &  850 &  33 & AA & 1141 & N619AA & JFK & MIA & 160 & 1089 & 5 & 40 & 2013-01-01 05:00:00\\\\\n\t 544 & 545 & -1 & 1004 & 1022 & -18 & B6 &  725 & N804JB & JFK & BQN & 183 & 1576 & 5 & 45 & 2013-01-01 05:00:00\\\\\n\t 554 & 600 & -6 &  812 &  837 & -25 & DL &  461 & N668DN & LGA & ATL & 116 &  762 & 6 &  0 & 2013-01-01 06:00:00\\\\\n\\end{tabular}\n",
            "text/markdown": "\nA tibble: 5 × 16\n\n| dep_time &lt;int&gt; | sched_dep_time &lt;int&gt; | dep_delay &lt;dbl&gt; | arr_time &lt;int&gt; | sched_arr_time &lt;int&gt; | arr_delay &lt;dbl&gt; | carrier &lt;chr&gt; | flight &lt;int&gt; | tailnum &lt;chr&gt; | origin &lt;chr&gt; | dest &lt;chr&gt; | air_time &lt;dbl&gt; | distance &lt;dbl&gt; | hour &lt;dbl&gt; | minute &lt;dbl&gt; | time_hour &lt;dttm&gt; |\n|---|---|---|---|---|---|---|---|---|---|---|---|---|---|---|---|\n| 517 | 515 |  2 |  830 |  819 |  11 | UA | 1545 | N14228 | EWR | IAH | 227 | 1400 | 5 | 15 | 2013-01-01 05:00:00 |\n| 533 | 529 |  4 |  850 |  830 |  20 | UA | 1714 | N24211 | LGA | IAH | 227 | 1416 | 5 | 29 | 2013-01-01 05:00:00 |\n| 542 | 540 |  2 |  923 |  850 |  33 | AA | 1141 | N619AA | JFK | MIA | 160 | 1089 | 5 | 40 | 2013-01-01 05:00:00 |\n| 544 | 545 | -1 | 1004 | 1022 | -18 | B6 |  725 | N804JB | JFK | BQN | 183 | 1576 | 5 | 45 | 2013-01-01 05:00:00 |\n| 554 | 600 | -6 |  812 |  837 | -25 | DL |  461 | N668DN | LGA | ATL | 116 |  762 | 6 |  0 | 2013-01-01 06:00:00 |\n\n",
            "text/html": [
              "<table class=\"dataframe\">\n",
              "<caption>A tibble: 5 × 16</caption>\n",
              "<thead>\n",
              "\t<tr><th scope=col>dep_time</th><th scope=col>sched_dep_time</th><th scope=col>dep_delay</th><th scope=col>arr_time</th><th scope=col>sched_arr_time</th><th scope=col>arr_delay</th><th scope=col>carrier</th><th scope=col>flight</th><th scope=col>tailnum</th><th scope=col>origin</th><th scope=col>dest</th><th scope=col>air_time</th><th scope=col>distance</th><th scope=col>hour</th><th scope=col>minute</th><th scope=col>time_hour</th></tr>\n",
              "\t<tr><th scope=col>&lt;int&gt;</th><th scope=col>&lt;int&gt;</th><th scope=col>&lt;dbl&gt;</th><th scope=col>&lt;int&gt;</th><th scope=col>&lt;int&gt;</th><th scope=col>&lt;dbl&gt;</th><th scope=col>&lt;chr&gt;</th><th scope=col>&lt;int&gt;</th><th scope=col>&lt;chr&gt;</th><th scope=col>&lt;chr&gt;</th><th scope=col>&lt;chr&gt;</th><th scope=col>&lt;dbl&gt;</th><th scope=col>&lt;dbl&gt;</th><th scope=col>&lt;dbl&gt;</th><th scope=col>&lt;dbl&gt;</th><th scope=col>&lt;dttm&gt;</th></tr>\n",
              "</thead>\n",
              "<tbody>\n",
              "\t<tr><td>517</td><td>515</td><td> 2</td><td> 830</td><td> 819</td><td> 11</td><td>UA</td><td>1545</td><td>N14228</td><td>EWR</td><td>IAH</td><td>227</td><td>1400</td><td>5</td><td>15</td><td>2013-01-01 05:00:00</td></tr>\n",
              "\t<tr><td>533</td><td>529</td><td> 4</td><td> 850</td><td> 830</td><td> 20</td><td>UA</td><td>1714</td><td>N24211</td><td>LGA</td><td>IAH</td><td>227</td><td>1416</td><td>5</td><td>29</td><td>2013-01-01 05:00:00</td></tr>\n",
              "\t<tr><td>542</td><td>540</td><td> 2</td><td> 923</td><td> 850</td><td> 33</td><td>AA</td><td>1141</td><td>N619AA</td><td>JFK</td><td>MIA</td><td>160</td><td>1089</td><td>5</td><td>40</td><td>2013-01-01 05:00:00</td></tr>\n",
              "\t<tr><td>544</td><td>545</td><td>-1</td><td>1004</td><td>1022</td><td>-18</td><td>B6</td><td> 725</td><td>N804JB</td><td>JFK</td><td>BQN</td><td>183</td><td>1576</td><td>5</td><td>45</td><td>2013-01-01 05:00:00</td></tr>\n",
              "\t<tr><td>554</td><td>600</td><td>-6</td><td> 812</td><td> 837</td><td>-25</td><td>DL</td><td> 461</td><td>N668DN</td><td>LGA</td><td>ATL</td><td>116</td><td> 762</td><td>6</td><td> 0</td><td>2013-01-01 06:00:00</td></tr>\n",
              "</tbody>\n",
              "</table>\n"
            ]
          },
          "metadata": {
            "tags": []
          }
        }
      ]
    },
    {
      "cell_type": "markdown",
      "metadata": {
        "id": "cgKV6HhJMb5X"
      },
      "source": [
        "## Helper functions"
      ]
    },
    {
      "cell_type": "code",
      "metadata": {
        "colab": {
          "base_uri": "https://localhost:8080/",
          "height": 250
        },
        "id": "kox0S_iALDMD",
        "outputId": "39d1bf54-a3d3-49ba-cbeb-36937921961c"
      },
      "source": [
        "select(flights, starts_with('dep')) %>% head(5)"
      ],
      "execution_count": 25,
      "outputs": [
        {
          "output_type": "display_data",
          "data": {
            "text/plain": [
              "  dep_time dep_delay\n",
              "1 517       2       \n",
              "2 533       4       \n",
              "3 542       2       \n",
              "4 544      -1       \n",
              "5 554      -6       "
            ],
            "text/latex": "A tibble: 5 × 2\n\\begin{tabular}{ll}\n dep\\_time & dep\\_delay\\\\\n <int> & <dbl>\\\\\n\\hline\n\t 517 &  2\\\\\n\t 533 &  4\\\\\n\t 542 &  2\\\\\n\t 544 & -1\\\\\n\t 554 & -6\\\\\n\\end{tabular}\n",
            "text/markdown": "\nA tibble: 5 × 2\n\n| dep_time &lt;int&gt; | dep_delay &lt;dbl&gt; |\n|---|---|\n| 517 |  2 |\n| 533 |  4 |\n| 542 |  2 |\n| 544 | -1 |\n| 554 | -6 |\n\n",
            "text/html": [
              "<table class=\"dataframe\">\n",
              "<caption>A tibble: 5 × 2</caption>\n",
              "<thead>\n",
              "\t<tr><th scope=col>dep_time</th><th scope=col>dep_delay</th></tr>\n",
              "\t<tr><th scope=col>&lt;int&gt;</th><th scope=col>&lt;dbl&gt;</th></tr>\n",
              "</thead>\n",
              "<tbody>\n",
              "\t<tr><td>517</td><td> 2</td></tr>\n",
              "\t<tr><td>533</td><td> 4</td></tr>\n",
              "\t<tr><td>542</td><td> 2</td></tr>\n",
              "\t<tr><td>544</td><td>-1</td></tr>\n",
              "\t<tr><td>554</td><td>-6</td></tr>\n",
              "</tbody>\n",
              "</table>\n"
            ]
          },
          "metadata": {
            "tags": []
          }
        }
      ]
    },
    {
      "cell_type": "code",
      "metadata": {
        "colab": {
          "base_uri": "https://localhost:8080/",
          "height": 250
        },
        "id": "G60hz_ZdMgTo",
        "outputId": "18bfd43d-a52d-475d-cef6-b9e08853d34f"
      },
      "source": [
        " select(flights, contains('dep')) %>% head(5)"
      ],
      "execution_count": 26,
      "outputs": [
        {
          "output_type": "display_data",
          "data": {
            "text/plain": [
              "  dep_time sched_dep_time dep_delay\n",
              "1 517      515             2       \n",
              "2 533      529             4       \n",
              "3 542      540             2       \n",
              "4 544      545            -1       \n",
              "5 554      600            -6       "
            ],
            "text/latex": "A tibble: 5 × 3\n\\begin{tabular}{lll}\n dep\\_time & sched\\_dep\\_time & dep\\_delay\\\\\n <int> & <int> & <dbl>\\\\\n\\hline\n\t 517 & 515 &  2\\\\\n\t 533 & 529 &  4\\\\\n\t 542 & 540 &  2\\\\\n\t 544 & 545 & -1\\\\\n\t 554 & 600 & -6\\\\\n\\end{tabular}\n",
            "text/markdown": "\nA tibble: 5 × 3\n\n| dep_time &lt;int&gt; | sched_dep_time &lt;int&gt; | dep_delay &lt;dbl&gt; |\n|---|---|---|\n| 517 | 515 |  2 |\n| 533 | 529 |  4 |\n| 542 | 540 |  2 |\n| 544 | 545 | -1 |\n| 554 | 600 | -6 |\n\n",
            "text/html": [
              "<table class=\"dataframe\">\n",
              "<caption>A tibble: 5 × 3</caption>\n",
              "<thead>\n",
              "\t<tr><th scope=col>dep_time</th><th scope=col>sched_dep_time</th><th scope=col>dep_delay</th></tr>\n",
              "\t<tr><th scope=col>&lt;int&gt;</th><th scope=col>&lt;int&gt;</th><th scope=col>&lt;dbl&gt;</th></tr>\n",
              "</thead>\n",
              "<tbody>\n",
              "\t<tr><td>517</td><td>515</td><td> 2</td></tr>\n",
              "\t<tr><td>533</td><td>529</td><td> 4</td></tr>\n",
              "\t<tr><td>542</td><td>540</td><td> 2</td></tr>\n",
              "\t<tr><td>544</td><td>545</td><td>-1</td></tr>\n",
              "\t<tr><td>554</td><td>600</td><td>-6</td></tr>\n",
              "</tbody>\n",
              "</table>\n"
            ]
          },
          "metadata": {
            "tags": []
          }
        }
      ]
    },
    {
      "cell_type": "code",
      "metadata": {
        "id": "Crb6fz-QMgjU"
      },
      "source": [
        "rename(flights, tail_num = tailnum) %>% head"
      ],
      "execution_count": null,
      "outputs": []
    },
    {
      "cell_type": "markdown",
      "metadata": {
        "id": "wXHYSJYDFbpo"
      },
      "source": [
        "열이름 바꾸기 다른 방법\\\n",
        "colnames(flights)[12] = 'tail_num'"
      ]
    },
    {
      "cell_type": "code",
      "metadata": {
        "id": "_NhcxHmb3cKB",
        "colab": {
          "base_uri": "https://localhost:8080/",
          "height": 52
        },
        "outputId": "9bbcafa7-ae9f-4352-b493-51dbc3081385"
      },
      "source": [
        "# 열이름\n",
        "colnames(flights)"
      ],
      "execution_count": 7,
      "outputs": [
        {
          "output_type": "display_data",
          "data": {
            "text/plain": [
              " [1] \"year\"           \"month\"          \"day\"            \"dep_time\"      \n",
              " [5] \"sched_dep_time\" \"dep_delay\"      \"arr_time\"       \"sched_arr_time\"\n",
              " [9] \"arr_delay\"      \"carrier\"        \"flight\"         \"tailnum\"       \n",
              "[13] \"origin\"         \"dest\"           \"air_time\"       \"distance\"      \n",
              "[17] \"hour\"           \"minute\"         \"time_hour\"     "
            ],
            "text/latex": "\\begin{enumerate*}\n\\item 'year'\n\\item 'month'\n\\item 'day'\n\\item 'dep\\_time'\n\\item 'sched\\_dep\\_time'\n\\item 'dep\\_delay'\n\\item 'arr\\_time'\n\\item 'sched\\_arr\\_time'\n\\item 'arr\\_delay'\n\\item 'carrier'\n\\item 'flight'\n\\item 'tailnum'\n\\item 'origin'\n\\item 'dest'\n\\item 'air\\_time'\n\\item 'distance'\n\\item 'hour'\n\\item 'minute'\n\\item 'time\\_hour'\n\\end{enumerate*}\n",
            "text/markdown": "1. 'year'\n2. 'month'\n3. 'day'\n4. 'dep_time'\n5. 'sched_dep_time'\n6. 'dep_delay'\n7. 'arr_time'\n8. 'sched_arr_time'\n9. 'arr_delay'\n10. 'carrier'\n11. 'flight'\n12. 'tailnum'\n13. 'origin'\n14. 'dest'\n15. 'air_time'\n16. 'distance'\n17. 'hour'\n18. 'minute'\n19. 'time_hour'\n\n\n",
            "text/html": [
              "<style>\n",
              ".list-inline {list-style: none; margin:0; padding: 0}\n",
              ".list-inline>li {display: inline-block}\n",
              ".list-inline>li:not(:last-child)::after {content: \"\\00b7\"; padding: 0 .5ex}\n",
              "</style>\n",
              "<ol class=list-inline><li>'year'</li><li>'month'</li><li>'day'</li><li>'dep_time'</li><li>'sched_dep_time'</li><li>'dep_delay'</li><li>'arr_time'</li><li>'sched_arr_time'</li><li>'arr_delay'</li><li>'carrier'</li><li>'flight'</li><li>'tailnum'</li><li>'origin'</li><li>'dest'</li><li>'air_time'</li><li>'distance'</li><li>'hour'</li><li>'minute'</li><li>'time_hour'</li></ol>\n"
            ]
          },
          "metadata": {
            "tags": []
          }
        }
      ]
    },
    {
      "cell_type": "code",
      "metadata": {
        "colab": {
          "base_uri": "https://localhost:8080/",
          "height": 509
        },
        "id": "GM4tu31mMg_4",
        "outputId": "f1d99cfb-cde2-446a-a7c0-997ae3aa07f5"
      },
      "source": [
        "select(flights, time_hour, air_time, everything()) %>% head"
      ],
      "execution_count": 27,
      "outputs": [
        {
          "output_type": "display_data",
          "data": {
            "text/plain": [
              "  time_hour           air_time year month day dep_time sched_dep_time dep_delay\n",
              "1 2013-01-01 05:00:00 227      2013 1     1   517      515             2       \n",
              "2 2013-01-01 05:00:00 227      2013 1     1   533      529             4       \n",
              "3 2013-01-01 05:00:00 160      2013 1     1   542      540             2       \n",
              "4 2013-01-01 05:00:00 183      2013 1     1   544      545            -1       \n",
              "5 2013-01-01 06:00:00 116      2013 1     1   554      600            -6       \n",
              "6 2013-01-01 05:00:00 150      2013 1     1   554      558            -4       \n",
              "  arr_time sched_arr_time arr_delay carrier flight tailnum origin dest distance\n",
              "1  830      819            11       UA      1545   N14228  EWR    IAH  1400    \n",
              "2  850      830            20       UA      1714   N24211  LGA    IAH  1416    \n",
              "3  923      850            33       AA      1141   N619AA  JFK    MIA  1089    \n",
              "4 1004     1022           -18       B6       725   N804JB  JFK    BQN  1576    \n",
              "5  812      837           -25       DL       461   N668DN  LGA    ATL   762    \n",
              "6  740      728            12       UA      1696   N39463  EWR    ORD   719    \n",
              "  hour minute\n",
              "1 5    15    \n",
              "2 5    29    \n",
              "3 5    40    \n",
              "4 5    45    \n",
              "5 6     0    \n",
              "6 5    58    "
            ],
            "text/latex": "A tibble: 6 × 19\n\\begin{tabular}{lllllllllllllllllll}\n time\\_hour & air\\_time & year & month & day & dep\\_time & sched\\_dep\\_time & dep\\_delay & arr\\_time & sched\\_arr\\_time & arr\\_delay & carrier & flight & tailnum & origin & dest & distance & hour & minute\\\\\n <dttm> & <dbl> & <int> & <int> & <int> & <int> & <int> & <dbl> & <int> & <int> & <dbl> & <chr> & <int> & <chr> & <chr> & <chr> & <dbl> & <dbl> & <dbl>\\\\\n\\hline\n\t 2013-01-01 05:00:00 & 227 & 2013 & 1 & 1 & 517 & 515 &  2 &  830 &  819 &  11 & UA & 1545 & N14228 & EWR & IAH & 1400 & 5 & 15\\\\\n\t 2013-01-01 05:00:00 & 227 & 2013 & 1 & 1 & 533 & 529 &  4 &  850 &  830 &  20 & UA & 1714 & N24211 & LGA & IAH & 1416 & 5 & 29\\\\\n\t 2013-01-01 05:00:00 & 160 & 2013 & 1 & 1 & 542 & 540 &  2 &  923 &  850 &  33 & AA & 1141 & N619AA & JFK & MIA & 1089 & 5 & 40\\\\\n\t 2013-01-01 05:00:00 & 183 & 2013 & 1 & 1 & 544 & 545 & -1 & 1004 & 1022 & -18 & B6 &  725 & N804JB & JFK & BQN & 1576 & 5 & 45\\\\\n\t 2013-01-01 06:00:00 & 116 & 2013 & 1 & 1 & 554 & 600 & -6 &  812 &  837 & -25 & DL &  461 & N668DN & LGA & ATL &  762 & 6 &  0\\\\\n\t 2013-01-01 05:00:00 & 150 & 2013 & 1 & 1 & 554 & 558 & -4 &  740 &  728 &  12 & UA & 1696 & N39463 & EWR & ORD &  719 & 5 & 58\\\\\n\\end{tabular}\n",
            "text/markdown": "\nA tibble: 6 × 19\n\n| time_hour &lt;dttm&gt; | air_time &lt;dbl&gt; | year &lt;int&gt; | month &lt;int&gt; | day &lt;int&gt; | dep_time &lt;int&gt; | sched_dep_time &lt;int&gt; | dep_delay &lt;dbl&gt; | arr_time &lt;int&gt; | sched_arr_time &lt;int&gt; | arr_delay &lt;dbl&gt; | carrier &lt;chr&gt; | flight &lt;int&gt; | tailnum &lt;chr&gt; | origin &lt;chr&gt; | dest &lt;chr&gt; | distance &lt;dbl&gt; | hour &lt;dbl&gt; | minute &lt;dbl&gt; |\n|---|---|---|---|---|---|---|---|---|---|---|---|---|---|---|---|---|---|---|\n| 2013-01-01 05:00:00 | 227 | 2013 | 1 | 1 | 517 | 515 |  2 |  830 |  819 |  11 | UA | 1545 | N14228 | EWR | IAH | 1400 | 5 | 15 |\n| 2013-01-01 05:00:00 | 227 | 2013 | 1 | 1 | 533 | 529 |  4 |  850 |  830 |  20 | UA | 1714 | N24211 | LGA | IAH | 1416 | 5 | 29 |\n| 2013-01-01 05:00:00 | 160 | 2013 | 1 | 1 | 542 | 540 |  2 |  923 |  850 |  33 | AA | 1141 | N619AA | JFK | MIA | 1089 | 5 | 40 |\n| 2013-01-01 05:00:00 | 183 | 2013 | 1 | 1 | 544 | 545 | -1 | 1004 | 1022 | -18 | B6 |  725 | N804JB | JFK | BQN | 1576 | 5 | 45 |\n| 2013-01-01 06:00:00 | 116 | 2013 | 1 | 1 | 554 | 600 | -6 |  812 |  837 | -25 | DL |  461 | N668DN | LGA | ATL |  762 | 6 |  0 |\n| 2013-01-01 05:00:00 | 150 | 2013 | 1 | 1 | 554 | 558 | -4 |  740 |  728 |  12 | UA | 1696 | N39463 | EWR | ORD |  719 | 5 | 58 |\n\n",
            "text/html": [
              "<table class=\"dataframe\">\n",
              "<caption>A tibble: 6 × 19</caption>\n",
              "<thead>\n",
              "\t<tr><th scope=col>time_hour</th><th scope=col>air_time</th><th scope=col>year</th><th scope=col>month</th><th scope=col>day</th><th scope=col>dep_time</th><th scope=col>sched_dep_time</th><th scope=col>dep_delay</th><th scope=col>arr_time</th><th scope=col>sched_arr_time</th><th scope=col>arr_delay</th><th scope=col>carrier</th><th scope=col>flight</th><th scope=col>tailnum</th><th scope=col>origin</th><th scope=col>dest</th><th scope=col>distance</th><th scope=col>hour</th><th scope=col>minute</th></tr>\n",
              "\t<tr><th scope=col>&lt;dttm&gt;</th><th scope=col>&lt;dbl&gt;</th><th scope=col>&lt;int&gt;</th><th scope=col>&lt;int&gt;</th><th scope=col>&lt;int&gt;</th><th scope=col>&lt;int&gt;</th><th scope=col>&lt;int&gt;</th><th scope=col>&lt;dbl&gt;</th><th scope=col>&lt;int&gt;</th><th scope=col>&lt;int&gt;</th><th scope=col>&lt;dbl&gt;</th><th scope=col>&lt;chr&gt;</th><th scope=col>&lt;int&gt;</th><th scope=col>&lt;chr&gt;</th><th scope=col>&lt;chr&gt;</th><th scope=col>&lt;chr&gt;</th><th scope=col>&lt;dbl&gt;</th><th scope=col>&lt;dbl&gt;</th><th scope=col>&lt;dbl&gt;</th></tr>\n",
              "</thead>\n",
              "<tbody>\n",
              "\t<tr><td>2013-01-01 05:00:00</td><td>227</td><td>2013</td><td>1</td><td>1</td><td>517</td><td>515</td><td> 2</td><td> 830</td><td> 819</td><td> 11</td><td>UA</td><td>1545</td><td>N14228</td><td>EWR</td><td>IAH</td><td>1400</td><td>5</td><td>15</td></tr>\n",
              "\t<tr><td>2013-01-01 05:00:00</td><td>227</td><td>2013</td><td>1</td><td>1</td><td>533</td><td>529</td><td> 4</td><td> 850</td><td> 830</td><td> 20</td><td>UA</td><td>1714</td><td>N24211</td><td>LGA</td><td>IAH</td><td>1416</td><td>5</td><td>29</td></tr>\n",
              "\t<tr><td>2013-01-01 05:00:00</td><td>160</td><td>2013</td><td>1</td><td>1</td><td>542</td><td>540</td><td> 2</td><td> 923</td><td> 850</td><td> 33</td><td>AA</td><td>1141</td><td>N619AA</td><td>JFK</td><td>MIA</td><td>1089</td><td>5</td><td>40</td></tr>\n",
              "\t<tr><td>2013-01-01 05:00:00</td><td>183</td><td>2013</td><td>1</td><td>1</td><td>544</td><td>545</td><td>-1</td><td>1004</td><td>1022</td><td>-18</td><td>B6</td><td> 725</td><td>N804JB</td><td>JFK</td><td>BQN</td><td>1576</td><td>5</td><td>45</td></tr>\n",
              "\t<tr><td>2013-01-01 06:00:00</td><td>116</td><td>2013</td><td>1</td><td>1</td><td>554</td><td>600</td><td>-6</td><td> 812</td><td> 837</td><td>-25</td><td>DL</td><td> 461</td><td>N668DN</td><td>LGA</td><td>ATL</td><td> 762</td><td>6</td><td> 0</td></tr>\n",
              "\t<tr><td>2013-01-01 05:00:00</td><td>150</td><td>2013</td><td>1</td><td>1</td><td>554</td><td>558</td><td>-4</td><td> 740</td><td> 728</td><td> 12</td><td>UA</td><td>1696</td><td>N39463</td><td>EWR</td><td>ORD</td><td> 719</td><td>5</td><td>58</td></tr>\n",
              "</tbody>\n",
              "</table>\n"
            ]
          },
          "metadata": {
            "tags": []
          }
        }
      ]
    },
    {
      "cell_type": "markdown",
      "metadata": {
        "id": "e8idISc1Og--"
      },
      "source": [
        "## Add new variables with mutate()"
      ]
    },
    {
      "cell_type": "code",
      "metadata": {
        "colab": {
          "base_uri": "https://localhost:8080/",
          "height": 301
        },
        "id": "Wn4yG-W5G_We",
        "outputId": "d23387a7-e400-40e9-b0c3-ad8267d3ece2"
      },
      "source": [
        "flights %>%\n",
        "        select(year:day, ends_with('delay'), distance, air_time) %>%\n",
        "        mutate(gain_delay = dep_delay - arr_delay,\n",
        "                hours = air_time/60,\n",
        "                gain_per_hour = gain_delay/hours) %>% head"
      ],
      "execution_count": 29,
      "outputs": [
        {
          "output_type": "display_data",
          "data": {
            "text/plain": [
              "  year month day dep_delay arr_delay distance air_time gain_delay hours   \n",
              "1 2013 1     1    2         11       1400     227       -9        3.783333\n",
              "2 2013 1     1    4         20       1416     227      -16        3.783333\n",
              "3 2013 1     1    2         33       1089     160      -31        2.666667\n",
              "4 2013 1     1   -1        -18       1576     183       17        3.050000\n",
              "5 2013 1     1   -6        -25        762     116       19        1.933333\n",
              "6 2013 1     1   -4         12        719     150      -16        2.500000\n",
              "  gain_per_hour\n",
              "1  -2.378855   \n",
              "2  -4.229075   \n",
              "3 -11.625000   \n",
              "4   5.573770   \n",
              "5   9.827586   \n",
              "6  -6.400000   "
            ],
            "text/latex": "A tibble: 6 × 10\n\\begin{tabular}{llllllllll}\n year & month & day & dep\\_delay & arr\\_delay & distance & air\\_time & gain\\_delay & hours & gain\\_per\\_hour\\\\\n <int> & <int> & <int> & <dbl> & <dbl> & <dbl> & <dbl> & <dbl> & <dbl> & <dbl>\\\\\n\\hline\n\t 2013 & 1 & 1 &  2 &  11 & 1400 & 227 &  -9 & 3.783333 &  -2.378855\\\\\n\t 2013 & 1 & 1 &  4 &  20 & 1416 & 227 & -16 & 3.783333 &  -4.229075\\\\\n\t 2013 & 1 & 1 &  2 &  33 & 1089 & 160 & -31 & 2.666667 & -11.625000\\\\\n\t 2013 & 1 & 1 & -1 & -18 & 1576 & 183 &  17 & 3.050000 &   5.573770\\\\\n\t 2013 & 1 & 1 & -6 & -25 &  762 & 116 &  19 & 1.933333 &   9.827586\\\\\n\t 2013 & 1 & 1 & -4 &  12 &  719 & 150 & -16 & 2.500000 &  -6.400000\\\\\n\\end{tabular}\n",
            "text/markdown": "\nA tibble: 6 × 10\n\n| year &lt;int&gt; | month &lt;int&gt; | day &lt;int&gt; | dep_delay &lt;dbl&gt; | arr_delay &lt;dbl&gt; | distance &lt;dbl&gt; | air_time &lt;dbl&gt; | gain_delay &lt;dbl&gt; | hours &lt;dbl&gt; | gain_per_hour &lt;dbl&gt; |\n|---|---|---|---|---|---|---|---|---|---|\n| 2013 | 1 | 1 |  2 |  11 | 1400 | 227 |  -9 | 3.783333 |  -2.378855 |\n| 2013 | 1 | 1 |  4 |  20 | 1416 | 227 | -16 | 3.783333 |  -4.229075 |\n| 2013 | 1 | 1 |  2 |  33 | 1089 | 160 | -31 | 2.666667 | -11.625000 |\n| 2013 | 1 | 1 | -1 | -18 | 1576 | 183 |  17 | 3.050000 |   5.573770 |\n| 2013 | 1 | 1 | -6 | -25 |  762 | 116 |  19 | 1.933333 |   9.827586 |\n| 2013 | 1 | 1 | -4 |  12 |  719 | 150 | -16 | 2.500000 |  -6.400000 |\n\n",
            "text/html": [
              "<table class=\"dataframe\">\n",
              "<caption>A tibble: 6 × 10</caption>\n",
              "<thead>\n",
              "\t<tr><th scope=col>year</th><th scope=col>month</th><th scope=col>day</th><th scope=col>dep_delay</th><th scope=col>arr_delay</th><th scope=col>distance</th><th scope=col>air_time</th><th scope=col>gain_delay</th><th scope=col>hours</th><th scope=col>gain_per_hour</th></tr>\n",
              "\t<tr><th scope=col>&lt;int&gt;</th><th scope=col>&lt;int&gt;</th><th scope=col>&lt;int&gt;</th><th scope=col>&lt;dbl&gt;</th><th scope=col>&lt;dbl&gt;</th><th scope=col>&lt;dbl&gt;</th><th scope=col>&lt;dbl&gt;</th><th scope=col>&lt;dbl&gt;</th><th scope=col>&lt;dbl&gt;</th><th scope=col>&lt;dbl&gt;</th></tr>\n",
              "</thead>\n",
              "<tbody>\n",
              "\t<tr><td>2013</td><td>1</td><td>1</td><td> 2</td><td> 11</td><td>1400</td><td>227</td><td> -9</td><td>3.783333</td><td> -2.378855</td></tr>\n",
              "\t<tr><td>2013</td><td>1</td><td>1</td><td> 4</td><td> 20</td><td>1416</td><td>227</td><td>-16</td><td>3.783333</td><td> -4.229075</td></tr>\n",
              "\t<tr><td>2013</td><td>1</td><td>1</td><td> 2</td><td> 33</td><td>1089</td><td>160</td><td>-31</td><td>2.666667</td><td>-11.625000</td></tr>\n",
              "\t<tr><td>2013</td><td>1</td><td>1</td><td>-1</td><td>-18</td><td>1576</td><td>183</td><td> 17</td><td>3.050000</td><td>  5.573770</td></tr>\n",
              "\t<tr><td>2013</td><td>1</td><td>1</td><td>-6</td><td>-25</td><td> 762</td><td>116</td><td> 19</td><td>1.933333</td><td>  9.827586</td></tr>\n",
              "\t<tr><td>2013</td><td>1</td><td>1</td><td>-4</td><td> 12</td><td> 719</td><td>150</td><td>-16</td><td>2.500000</td><td> -6.400000</td></tr>\n",
              "</tbody>\n",
              "</table>\n"
            ]
          },
          "metadata": {
            "tags": []
          }
        }
      ]
    },
    {
      "cell_type": "code",
      "metadata": {
        "id": "al6He-v_ap1C"
      },
      "source": [
        "# save new_col\n",
        "flights_new=flights %>%\n",
        "              select(year:day, ends_with('delay'), distance, air_time) %>%\n",
        "              mutate(gain_delay = dep_delay - arr_delay,\n",
        "                      hours = air_time/60,\n",
        "                      gain_per_hour = gain_delay/hours)"
      ],
      "execution_count": 68,
      "outputs": []
    },
    {
      "cell_type": "markdown",
      "metadata": {
        "id": "fCuQ3cX6Pqkj"
      },
      "source": [
        "\n",
        "## Grouped summaries with summarise()"
      ]
    },
    {
      "cell_type": "code",
      "metadata": {
        "colab": {
          "base_uri": "https://localhost:8080/",
          "height": 281
        },
        "id": "IHQXPUPMHABc",
        "outputId": "d9891d85-2f55-41b4-d3ff-b40efbddfb4c"
      },
      "source": [
        "flights %>% group_by(dest) %>%\n",
        "    summarise(count = n(), dist_mean=mean(distance, na.rm = T),delay= mean(arr_delay,na.rm=T))%>% \n",
        "    filter(count > 20, dest != \"HNL\") %>% head"
      ],
      "execution_count": 30,
      "outputs": [
        {
          "output_type": "display_data",
          "data": {
            "text/plain": [
              "  dest count dist_mean delay    \n",
              "1 ABQ    254 1826.0000  4.381890\n",
              "2 ACK    265  199.0000  4.852273\n",
              "3 ALB    439  143.0000 14.397129\n",
              "4 ATL  17215  757.1082 11.300113\n",
              "5 AUS   2439 1514.2530  6.019909\n",
              "6 AVL    275  583.5818  8.003831"
            ],
            "text/latex": "A tibble: 6 × 4\n\\begin{tabular}{llll}\n dest & count & dist\\_mean & delay\\\\\n <chr> & <int> & <dbl> & <dbl>\\\\\n\\hline\n\t ABQ &   254 & 1826.0000 &  4.381890\\\\\n\t ACK &   265 &  199.0000 &  4.852273\\\\\n\t ALB &   439 &  143.0000 & 14.397129\\\\\n\t ATL & 17215 &  757.1082 & 11.300113\\\\\n\t AUS &  2439 & 1514.2530 &  6.019909\\\\\n\t AVL &   275 &  583.5818 &  8.003831\\\\\n\\end{tabular}\n",
            "text/markdown": "\nA tibble: 6 × 4\n\n| dest &lt;chr&gt; | count &lt;int&gt; | dist_mean &lt;dbl&gt; | delay &lt;dbl&gt; |\n|---|---|---|---|\n| ABQ |   254 | 1826.0000 |  4.381890 |\n| ACK |   265 |  199.0000 |  4.852273 |\n| ALB |   439 |  143.0000 | 14.397129 |\n| ATL | 17215 |  757.1082 | 11.300113 |\n| AUS |  2439 | 1514.2530 |  6.019909 |\n| AVL |   275 |  583.5818 |  8.003831 |\n\n",
            "text/html": [
              "<table class=\"dataframe\">\n",
              "<caption>A tibble: 6 × 4</caption>\n",
              "<thead>\n",
              "\t<tr><th scope=col>dest</th><th scope=col>count</th><th scope=col>dist_mean</th><th scope=col>delay</th></tr>\n",
              "\t<tr><th scope=col>&lt;chr&gt;</th><th scope=col>&lt;int&gt;</th><th scope=col>&lt;dbl&gt;</th><th scope=col>&lt;dbl&gt;</th></tr>\n",
              "</thead>\n",
              "<tbody>\n",
              "\t<tr><td>ABQ</td><td>  254</td><td>1826.0000</td><td> 4.381890</td></tr>\n",
              "\t<tr><td>ACK</td><td>  265</td><td> 199.0000</td><td> 4.852273</td></tr>\n",
              "\t<tr><td>ALB</td><td>  439</td><td> 143.0000</td><td>14.397129</td></tr>\n",
              "\t<tr><td>ATL</td><td>17215</td><td> 757.1082</td><td>11.300113</td></tr>\n",
              "\t<tr><td>AUS</td><td> 2439</td><td>1514.2530</td><td> 6.019909</td></tr>\n",
              "\t<tr><td>AVL</td><td>  275</td><td> 583.5818</td><td> 8.003831</td></tr>\n",
              "</tbody>\n",
              "</table>\n"
            ]
          },
          "metadata": {
            "tags": []
          }
        }
      ]
    },
    {
      "cell_type": "markdown",
      "metadata": {
        "id": "sxL5itMARIm4"
      },
      "source": [
        "## Data visualization - ggplot"
      ]
    },
    {
      "cell_type": "code",
      "metadata": {
        "colab": {
          "base_uri": "https://localhost:8080/",
          "height": 475
        },
        "id": "t15GYsLSHBHx",
        "outputId": "d75e9454-b587-400f-cca0-b159491be0fb"
      },
      "source": [
        "ggplot(data=flights_new)+\n",
        "  geom_point(mapping = aes(distance,gain_per_hour )) +\n",
        "  theme(axis.line= element_line(size=.8, colour = \"black\"),\n",
        "        panel.grid.minor = element_blank(),\n",
        "        panel.border = element_blank(),\n",
        "        text = element_text(size = 25, colour = 'red'))\n"
      ],
      "execution_count": 71,
      "outputs": [
        {
          "output_type": "stream",
          "text": [
            "Warning message:\n",
            "“Removed 9430 rows containing missing values (geom_point).”\n"
          ],
          "name": "stderr"
        },
        {
          "output_type": "display_data",
          "data": {
            "image/png": "[encoded data removed]",
            "text/plain": [
              "plot without title"
            ]
          },
          "metadata": {
            "tags": [],
            "image/png": {
              "width": 420,
              "height": 420
            }
          }
        }
      ]
    },
    {
      "cell_type": "code",
      "metadata": {
        "id": "9PpLJnx4HBEf"
      },
      "source": [
        ""
      ],
      "execution_count": null,
      "outputs": []
    },
    {
      "cell_type": "code",
      "metadata": {
        "id": "VIeTorFzHBBh"
      },
      "source": [
        ""
      ],
      "execution_count": null,
      "outputs": []
    }
  ]
}