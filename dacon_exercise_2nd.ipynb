{
  "nbformat": 4,
  "nbformat_minor": 0,
  "metadata": {
    "kernelspec": {
      "display_name": "Python 3",
      "language": "python",
      "name": "python3"
    },
    "language_info": {
      "codemirror_mode": {
        "name": "ipython",
        "version": 3
      },
      "file_extension": ".py",
      "mimetype": "text/x-python",
      "name": "python",
      "nbconvert_exporter": "python",
      "pygments_lexer": "ipython3",
      "version": "3.7.6"
    },
    "colab": {
      "name": "dacon_exercise_2nd.ipynb",
      "provenance": []
    }
  },
  "cells": [
    {
      "cell_type": "markdown",
      "metadata": {
        "id": "WCgghX5Jbq9V"
      },
      "source": [
        "# 데이콘 운동동작분류 - 2등 분석 (21.03.23)"
      ]
    },
    {
      "cell_type": "markdown",
      "metadata": {
        "id": "JaSKOVuqbq9b"
      },
      "source": [
        "###  1D-CNN에 global-average-pooling 사용\n",
        "### 타겟 변수가 굉장히 불균형하기 때문에 Stratified KFold, K=10"
      ]
    },
    {
      "cell_type": "code",
      "metadata": {
        "id": "X_E1Hjn1bq9g"
      },
      "source": [
        "import pandas as pd\n",
        "import numpy as np\n",
        "import matplotlib.pyplot as plt\n",
        "import seaborn as sns\n",
        "from scipy import signal\n",
        "from tqdm import tqdm\n",
        "from numpy.fft import fft, fftshift\n",
        "import matplotlib.pyplot as plt\n",
        "import seaborn as sns\n",
        "import random\n",
        "import warnings\n",
        "warnings.filterwarnings(action='ignore')"
      ],
      "execution_count": null,
      "outputs": []
    },
    {
      "cell_type": "markdown",
      "metadata": {
        "id": "F1Uol70Gbq9i"
      },
      "source": [
        "load data"
      ]
    },
    {
      "cell_type": "code",
      "metadata": {
        "colab": {
          "base_uri": "https://localhost:8080/"
        },
        "id": "2Ktx8o7nbyYi",
        "outputId": "856627dd-23df-4603-f1e9-178c7ea23816"
      },
      "source": [
        "from google.colab import drive\n",
        "drive.mount('/content/drive')"
      ],
      "execution_count": null,
      "outputs": [
        {
          "output_type": "stream",
          "text": [
            "Drive already mounted at /content/drive; to attempt to forcibly remount, call drive.mount(\"/content/drive\", force_remount=True).\n"
          ],
          "name": "stdout"
        }
      ]
    },
    {
      "cell_type": "code",
      "metadata": {
        "collapsed": true,
        "id": "efs1mWo6bq9m"
      },
      "source": [
        "train=pd.read_csv('/content/drive/MyDrive/train_features.csv')\n",
        "train_labels=pd.read_csv('/content/drive/MyDrive/train_labels.csv')\n",
        "test=pd.read_csv('/content/drive/MyDrive/test_features.csv')\n",
        "\n",
        "submission=pd.read_csv('/content/drive/MyDrive/sample_submission.csv')\n",
        "\n",
        "pd.options.display.max_columns=50"
      ],
      "execution_count": null,
      "outputs": []
    },
    {
      "cell_type": "markdown",
      "metadata": {
        "id": "nWTBrQjKbq9q"
      },
      "source": [
        "Feature engneering  \n",
        "가속도, 자이로, (자이로-가속도) 센서값을 에너지로 표현"
      ]
    },
    {
      "cell_type": "code",
      "metadata": {
        "id": "NiZUne-Mbq9s"
      },
      "source": [
        "# 가속도\n",
        "train['acc_Energy']=(train['acc_x']**2+train['acc_y']**2+train['acc_z']**2)**(1/3)\n",
        "test['acc_Energy']=(test['acc_x']**2+test['acc_y']**2+test['acc_z']**2)**(1/3)\n",
        "\n",
        "# 자이로\n",
        "train['gy_Energy']=(train['gy_x']**2+train['gy_y']**2+train['gy_z']**2)**(1/3)\n",
        "test['gy_Energy']=(test['gy_x']**2+test['gy_y']**2+test['gy_z']**2)**(1/3)\n",
        "\n",
        "# (자이로-가속도)\n",
        "train['gy_acc_Energy']=((train['gy_x']-train['acc_x'])**2+(train['gy_y']-train['acc_y'])**2+(train['gy_z']-train['acc_z'])**2)**(1/3)\n",
        "test['gy_acc_Energy']=((test['gy_x']-test['acc_x'])**2+(test['gy_y']-test['acc_y'])**2+(test['gy_z']-test['acc_z'])**2)**(1/3)"
      ],
      "execution_count": null,
      "outputs": []
    },
    {
      "cell_type": "markdown",
      "metadata": {
        "id": "yZ2cgQHBbq9v"
      },
      "source": [
        "id별 데이터는 0.02초마다 측정된 값들이기 때문에 이전 시간 대비 변화량 적용"
      ]
    },
    {
      "cell_type": "code",
      "metadata": {
        "id": "l7H9CZ__bq9x"
      },
      "source": [
        "dt=0.02 # 0.02초\n",
        "def jerk_signal(signal): # 이전 시간 대비 변화량 = (현재값-이전값)/0.02 , (시그널의 길이-1)만큼 반복 ex) 5개 -> 4번 반복\n",
        "        return np.array([(signal[i+1]-signal[i])/dt for i in range(len(signal)-1)])"
      ],
      "execution_count": null,
      "outputs": []
    },
    {
      "cell_type": "code",
      "metadata": {
        "colab": {
          "base_uri": "https://localhost:8080/"
        },
        "id": "yORumTQ8bq9y",
        "outputId": "99426608-769e-4e8d-ea65-13b379ddae96"
      },
      "source": [
        "train_dt=[]\n",
        "# id에서 중복값 제거하고(id는 3125개) 진행표시바(중간중간 잘 생성이 되었나 확인 목적) 생성\n",
        "for i in tqdm(train['id'].unique()): # for i in train['id'].unique() -> 3125\n",
        "    # train['id']=i인 것의 행 반환 ex) id=1인 것의 acc_x : 000, acc_y : 000, ..., gy_z : 000\n",
        "    temp=train.loc[train['id']==i]\n",
        "    for v in train.columns[2:]:\n",
        "        values=jerk_signal(temp[v].values)\n",
        "        # np.insert():주어진 축에 대해 주어진 인덱스 앞에 값을 삽입\n",
        "        # values의 첫번째 위치(index=0)에 값 0 삽입\n",
        "        values=np.insert(values,0,0)\n",
        "        # temp에서 v열(2열~8열) (_dt붙이고) : (acc_x_dt, ..., gy_z_dt)\n",
        "        temp.loc[:,v+'_dt']=values\n",
        "    train_dt.append(temp)"
      ],
      "execution_count": null,
      "outputs": [
        {
          "output_type": "stream",
          "text": [
            "100%|██████████| 3125/3125 [01:00<00:00, 51.38it/s]\n"
          ],
          "name": "stderr"
        }
      ]
    },
    {
      "cell_type": "code",
      "metadata": {
        "colab": {
          "base_uri": "https://localhost:8080/"
        },
        "id": "P5lkrH5-bq-Q",
        "outputId": "2813183d-d563-402c-ac5d-7e05bb150cfd"
      },
      "source": [
        "test_dt=[]\n",
        "for i in tqdm(test['id'].unique()):\n",
        "    temp=test.loc[test['id']==i]\n",
        "    for v in train.columns[2:]:\n",
        "        values=jerk_signal(temp[v].values)\n",
        "        values=np.insert(values,0,0)\n",
        "        temp.loc[:,v+'_dt']=values\n",
        "    test_dt.append(temp)"
      ],
      "execution_count": null,
      "outputs": [
        {
          "output_type": "stream",
          "text": [
            "100%|██████████| 782/782 [00:14<00:00, 54.08it/s]\n"
          ],
          "name": "stderr"
        }
      ]
    },
    {
      "cell_type": "markdown",
      "metadata": {
        "id": "ZKPfDsRWbq-S"
      },
      "source": [
        "가속도, 자이로 센서값들을 푸리에 변환  \n",
        "푸리에 변환(Fourier transform, FT)은 시간이나 공간에 대한 함수를 시간 또는 공간 주파수 성분으로 분해하는 변환을 말한다. "
      ]
    },
    {
      "cell_type": "code",
      "metadata": {
        "id": "m1k6H2bXbq-T"
      },
      "source": [
        "from scipy import fftpack\n",
        "from numpy.fft import *\n",
        "\n",
        "def fourier_transform_one_signal(t_signal):\n",
        "    # scipy.fftpack.fft ()를 사용하여 FFT(fast Fourier transforms)를 계산\n",
        "    complex_f_signal= fftpack.fft(t_signal)\n",
        "    # fft() 명령어를 수행한 결과를 살펴보면 파형을 실수부와 허수부로 나뉘는 역할만을 하게 됩니다.\n",
        "    # 주파수 해석의 목적은 각 주파수 별로 크기 (magnitude)가 어느 정도인지 알아내는 것이기 때문에\n",
        "    # 절대값 함수 abs()를 이용해서 크기를 연산할 수 있습니다.\n",
        "    amplitude_f_signal=np.abs(complex_f_signal)\n",
        "    return amplitude_f_signal\n"
      ],
      "execution_count": null,
      "outputs": []
    },
    {
      "cell_type": "code",
      "metadata": {
        "id": "6dkXfIlmbq-W"
      },
      "source": [
        "train=pd.concat(train_dt)"
      ],
      "execution_count": null,
      "outputs": []
    },
    {
      "cell_type": "code",
      "metadata": {
        "collapsed": true,
        "colab": {
          "base_uri": "https://localhost:8080/",
          "height": 222
        },
        "id": "aWjYZqfdbq-X",
        "outputId": "df7bef5e-58d4-4aa6-d7fa-8b2785d4f4ca"
      },
      "source": [
        "train.head()"
      ],
      "execution_count": null,
      "outputs": [
        {
          "output_type": "execute_result",
          "data": {
            "text/html": [
              "<div>\n",
              "<style scoped>\n",
              "    .dataframe tbody tr th:only-of-type {\n",
              "        vertical-align: middle;\n",
              "    }\n",
              "\n",
              "    .dataframe tbody tr th {\n",
              "        vertical-align: top;\n",
              "    }\n",
              "\n",
              "    .dataframe thead th {\n",
              "        text-align: right;\n",
              "    }\n",
              "</style>\n",
              "<table border=\"1\" class=\"dataframe\">\n",
              "  <thead>\n",
              "    <tr style=\"text-align: right;\">\n",
              "      <th></th>\n",
              "      <th>id</th>\n",
              "      <th>time</th>\n",
              "      <th>acc_x</th>\n",
              "      <th>acc_y</th>\n",
              "      <th>acc_z</th>\n",
              "      <th>gy_x</th>\n",
              "      <th>gy_y</th>\n",
              "      <th>gy_z</th>\n",
              "      <th>acc_Energy</th>\n",
              "      <th>gy_Energy</th>\n",
              "      <th>gy_acc_Energy</th>\n",
              "      <th>acc_x_dt</th>\n",
              "      <th>acc_y_dt</th>\n",
              "      <th>acc_z_dt</th>\n",
              "      <th>gy_x_dt</th>\n",
              "      <th>gy_y_dt</th>\n",
              "      <th>gy_z_dt</th>\n",
              "      <th>acc_Energy_dt</th>\n",
              "      <th>gy_Energy_dt</th>\n",
              "      <th>gy_acc_Energy_dt</th>\n",
              "    </tr>\n",
              "  </thead>\n",
              "  <tbody>\n",
              "    <tr>\n",
              "      <th>0</th>\n",
              "      <td>0</td>\n",
              "      <td>0</td>\n",
              "      <td>1.206087</td>\n",
              "      <td>-0.179371</td>\n",
              "      <td>-0.148447</td>\n",
              "      <td>-0.591608</td>\n",
              "      <td>-30.549010</td>\n",
              "      <td>-31.676112</td>\n",
              "      <td>1.146962</td>\n",
              "      <td>12.465436</td>\n",
              "      <td>12.427938</td>\n",
              "      <td>0.000000</td>\n",
              "      <td>0.000000</td>\n",
              "      <td>0.000000</td>\n",
              "      <td>0.000000</td>\n",
              "      <td>0.000000</td>\n",
              "      <td>0.000000</td>\n",
              "      <td>0.000000</td>\n",
              "      <td>0.000000</td>\n",
              "      <td>0.000000</td>\n",
              "    </tr>\n",
              "    <tr>\n",
              "      <th>1</th>\n",
              "      <td>0</td>\n",
              "      <td>1</td>\n",
              "      <td>1.287696</td>\n",
              "      <td>-0.198974</td>\n",
              "      <td>-0.182444</td>\n",
              "      <td>0.303100</td>\n",
              "      <td>-39.139103</td>\n",
              "      <td>-24.927216</td>\n",
              "      <td>1.200703</td>\n",
              "      <td>12.913284</td>\n",
              "      <td>12.865692</td>\n",
              "      <td>4.080495</td>\n",
              "      <td>-0.980114</td>\n",
              "      <td>-1.699854</td>\n",
              "      <td>44.735403</td>\n",
              "      <td>-429.504677</td>\n",
              "      <td>337.444793</td>\n",
              "      <td>2.687024</td>\n",
              "      <td>22.392358</td>\n",
              "      <td>21.887693</td>\n",
              "    </tr>\n",
              "    <tr>\n",
              "      <th>2</th>\n",
              "      <td>0</td>\n",
              "      <td>2</td>\n",
              "      <td>1.304609</td>\n",
              "      <td>-0.195114</td>\n",
              "      <td>-0.253382</td>\n",
              "      <td>-3.617278</td>\n",
              "      <td>-44.122565</td>\n",
              "      <td>-25.019629</td>\n",
              "      <td>1.217403</td>\n",
              "      <td>13.725729</td>\n",
              "      <td>13.692643</td>\n",
              "      <td>0.845632</td>\n",
              "      <td>0.192961</td>\n",
              "      <td>-3.546937</td>\n",
              "      <td>-196.018888</td>\n",
              "      <td>-249.173073</td>\n",
              "      <td>-4.620631</td>\n",
              "      <td>0.835012</td>\n",
              "      <td>40.622253</td>\n",
              "      <td>41.347563</td>\n",
              "    </tr>\n",
              "    <tr>\n",
              "      <th>3</th>\n",
              "      <td>0</td>\n",
              "      <td>3</td>\n",
              "      <td>1.293095</td>\n",
              "      <td>-0.230366</td>\n",
              "      <td>-0.215210</td>\n",
              "      <td>2.712986</td>\n",
              "      <td>-53.597843</td>\n",
              "      <td>-27.454013</td>\n",
              "      <td>1.209981</td>\n",
              "      <td>15.374021</td>\n",
              "      <td>15.314907</td>\n",
              "      <td>-0.575711</td>\n",
              "      <td>-1.762585</td>\n",
              "      <td>1.908626</td>\n",
              "      <td>316.513181</td>\n",
              "      <td>-473.763910</td>\n",
              "      <td>-121.719195</td>\n",
              "      <td>-0.371100</td>\n",
              "      <td>82.414636</td>\n",
              "      <td>81.113199</td>\n",
              "    </tr>\n",
              "    <tr>\n",
              "      <th>4</th>\n",
              "      <td>0</td>\n",
              "      <td>4</td>\n",
              "      <td>1.300887</td>\n",
              "      <td>-0.187757</td>\n",
              "      <td>-0.222523</td>\n",
              "      <td>4.286707</td>\n",
              "      <td>-57.906561</td>\n",
              "      <td>-27.961234</td>\n",
              "      <td>1.211254</td>\n",
              "      <td>16.074363</td>\n",
              "      <td>16.017964</td>\n",
              "      <td>0.389598</td>\n",
              "      <td>2.130453</td>\n",
              "      <td>-0.365665</td>\n",
              "      <td>78.686055</td>\n",
              "      <td>-215.435892</td>\n",
              "      <td>-25.361098</td>\n",
              "      <td>0.063656</td>\n",
              "      <td>35.017060</td>\n",
              "      <td>35.152822</td>\n",
              "    </tr>\n",
              "  </tbody>\n",
              "</table>\n",
              "</div>"
            ],
            "text/plain": [
              "   id  time     acc_x     acc_y     acc_z      gy_x       gy_y       gy_z  \\\n",
              "0   0     0  1.206087 -0.179371 -0.148447 -0.591608 -30.549010 -31.676112   \n",
              "1   0     1  1.287696 -0.198974 -0.182444  0.303100 -39.139103 -24.927216   \n",
              "2   0     2  1.304609 -0.195114 -0.253382 -3.617278 -44.122565 -25.019629   \n",
              "3   0     3  1.293095 -0.230366 -0.215210  2.712986 -53.597843 -27.454013   \n",
              "4   0     4  1.300887 -0.187757 -0.222523  4.286707 -57.906561 -27.961234   \n",
              "\n",
              "   acc_Energy  gy_Energy  gy_acc_Energy  acc_x_dt  acc_y_dt  acc_z_dt  \\\n",
              "0    1.146962  12.465436      12.427938  0.000000  0.000000  0.000000   \n",
              "1    1.200703  12.913284      12.865692  4.080495 -0.980114 -1.699854   \n",
              "2    1.217403  13.725729      13.692643  0.845632  0.192961 -3.546937   \n",
              "3    1.209981  15.374021      15.314907 -0.575711 -1.762585  1.908626   \n",
              "4    1.211254  16.074363      16.017964  0.389598  2.130453 -0.365665   \n",
              "\n",
              "      gy_x_dt     gy_y_dt     gy_z_dt  acc_Energy_dt  gy_Energy_dt  \\\n",
              "0    0.000000    0.000000    0.000000       0.000000      0.000000   \n",
              "1   44.735403 -429.504677  337.444793       2.687024     22.392358   \n",
              "2 -196.018888 -249.173073   -4.620631       0.835012     40.622253   \n",
              "3  316.513181 -473.763910 -121.719195      -0.371100     82.414636   \n",
              "4   78.686055 -215.435892  -25.361098       0.063656     35.017060   \n",
              "\n",
              "   gy_acc_Energy_dt  \n",
              "0          0.000000  \n",
              "1         21.887693  \n",
              "2         41.347563  \n",
              "3         81.113199  \n",
              "4         35.152822  "
            ]
          },
          "metadata": {
            "tags": []
          },
          "execution_count": 12
        }
      ]
    },
    {
      "cell_type": "code",
      "metadata": {
        "colab": {
          "base_uri": "https://localhost:8080/"
        },
        "id": "wSWZdAJ3bq-Z",
        "outputId": "a942991e-a8b4-41c3-ad36-2c72a1d01dce"
      },
      "source": [
        "fft=[]\n",
        "for i in tqdm(train['id'].unique()):\n",
        "    temp=train.loc[train['id']==i]\n",
        "    for i in train.columns[2:8]:\n",
        "        temp[i]=fourier_transform_one_signal(temp[i].values)\n",
        "    fft.append(temp)\n",
        "train=pd.concat(fft)"
      ],
      "execution_count": null,
      "outputs": [
        {
          "output_type": "stream",
          "text": [
            "100%|██████████| 3125/3125 [00:16<00:00, 188.88it/s]\n"
          ],
          "name": "stderr"
        }
      ]
    },
    {
      "cell_type": "code",
      "metadata": {
        "id": "4ZuaizQxbq-c"
      },
      "source": [
        "test=pd.concat(test_dt)"
      ],
      "execution_count": null,
      "outputs": []
    },
    {
      "cell_type": "code",
      "metadata": {
        "colab": {
          "base_uri": "https://localhost:8080/"
        },
        "id": "dJVVO6SDbq-d",
        "outputId": "041245e8-5275-461e-aba9-e188a5fe1bc7"
      },
      "source": [
        "fft_t=[]\n",
        "for i in tqdm(test['id'].unique()):\n",
        "    temp=test.loc[test['id']==i]\n",
        "    for i in test.columns[2:8]:\n",
        "        temp[i]=fourier_transform_one_signal(temp[i].values)\n",
        "    fft_t.append(temp)\n",
        "test=pd.concat(fft_t)"
      ],
      "execution_count": null,
      "outputs": [
        {
          "output_type": "stream",
          "text": [
            "100%|██████████| 782/782 [00:02<00:00, 304.33it/s]\n"
          ],
          "name": "stderr"
        }
      ]
    },
    {
      "cell_type": "markdown",
      "metadata": {
        "id": "chN9wpchbq-g"
      },
      "source": [
        "Standard scaling 적용"
      ]
    },
    {
      "cell_type": "code",
      "metadata": {
        "id": "F8P4dY0Ibq-h"
      },
      "source": [
        "col=train.columns\n",
        "train_s=train.copy()\n",
        "test_s=test.copy()"
      ],
      "execution_count": null,
      "outputs": []
    },
    {
      "cell_type": "code",
      "metadata": {
        "id": "dr2WwWO1bq-i"
      },
      "source": [
        "from sklearn.preprocessing import StandardScaler,MinMaxScaler\n",
        "# 평균 0 , 분산 1로 조정\n",
        "scaler = StandardScaler()\n",
        "\n",
        "train_s.iloc[:,2:]= scaler.fit_transform(train_s.iloc[:,2:])\n",
        "train_sc = pd.DataFrame(data = train_s,columns =col)\n",
        "\n",
        "test_s.iloc[:,2:]= scaler.transform(test_s.iloc[:,2:])\n",
        "test_sc = pd.DataFrame(data = test_s,columns =col)\n",
        "# train_sc, test_sc"
      ],
      "execution_count": null,
      "outputs": []
    },
    {
      "cell_type": "code",
      "metadata": {
        "collapsed": true,
        "colab": {
          "base_uri": "https://localhost:8080/",
          "height": 222
        },
        "id": "OVCO1amwbq-j",
        "outputId": "4f245fa7-355e-47ef-aad1-c6f0c4c6a3e1"
      },
      "source": [
        "train_sc.head()"
      ],
      "execution_count": null,
      "outputs": [
        {
          "output_type": "execute_result",
          "data": {
            "text/html": [
              "<div>\n",
              "<style scoped>\n",
              "    .dataframe tbody tr th:only-of-type {\n",
              "        vertical-align: middle;\n",
              "    }\n",
              "\n",
              "    .dataframe tbody tr th {\n",
              "        vertical-align: top;\n",
              "    }\n",
              "\n",
              "    .dataframe thead th {\n",
              "        text-align: right;\n",
              "    }\n",
              "</style>\n",
              "<table border=\"1\" class=\"dataframe\">\n",
              "  <thead>\n",
              "    <tr style=\"text-align: right;\">\n",
              "      <th></th>\n",
              "      <th>id</th>\n",
              "      <th>time</th>\n",
              "      <th>acc_x</th>\n",
              "      <th>acc_y</th>\n",
              "      <th>acc_z</th>\n",
              "      <th>gy_x</th>\n",
              "      <th>gy_y</th>\n",
              "      <th>gy_z</th>\n",
              "      <th>acc_Energy</th>\n",
              "      <th>gy_Energy</th>\n",
              "      <th>gy_acc_Energy</th>\n",
              "      <th>acc_x_dt</th>\n",
              "      <th>acc_y_dt</th>\n",
              "      <th>acc_z_dt</th>\n",
              "      <th>gy_x_dt</th>\n",
              "      <th>gy_y_dt</th>\n",
              "      <th>gy_z_dt</th>\n",
              "      <th>acc_Energy_dt</th>\n",
              "      <th>gy_Energy_dt</th>\n",
              "      <th>gy_acc_Energy_dt</th>\n",
              "    </tr>\n",
              "  </thead>\n",
              "  <tbody>\n",
              "    <tr>\n",
              "      <th>0</th>\n",
              "      <td>0</td>\n",
              "      <td>0</td>\n",
              "      <td>27.356382</td>\n",
              "      <td>8.807207</td>\n",
              "      <td>19.465910</td>\n",
              "      <td>0.376992</td>\n",
              "      <td>0.869226</td>\n",
              "      <td>0.150423</td>\n",
              "      <td>0.495681</td>\n",
              "      <td>-0.272719</td>\n",
              "      <td>-0.276391</td>\n",
              "      <td>0.000027</td>\n",
              "      <td>0.000298</td>\n",
              "      <td>-0.000433</td>\n",
              "      <td>0.000347</td>\n",
              "      <td>0.000373</td>\n",
              "      <td>0.000273</td>\n",
              "      <td>0.000101</td>\n",
              "      <td>0.001505</td>\n",
              "      <td>0.001501</td>\n",
              "    </tr>\n",
              "    <tr>\n",
              "      <th>1</th>\n",
              "      <td>0</td>\n",
              "      <td>1</td>\n",
              "      <td>-0.054866</td>\n",
              "      <td>0.833464</td>\n",
              "      <td>0.820412</td>\n",
              "      <td>-0.282128</td>\n",
              "      <td>-0.093560</td>\n",
              "      <td>0.011266</td>\n",
              "      <td>0.742974</td>\n",
              "      <td>-0.236152</td>\n",
              "      <td>-0.240632</td>\n",
              "      <td>0.416836</td>\n",
              "      <td>-0.118821</td>\n",
              "      <td>-0.255054</td>\n",
              "      <td>0.032738</td>\n",
              "      <td>-0.349095</td>\n",
              "      <td>0.377085</td>\n",
              "      <td>0.564992</td>\n",
              "      <td>0.166566</td>\n",
              "      <td>0.162871</td>\n",
              "    </tr>\n",
              "    <tr>\n",
              "      <th>2</th>\n",
              "      <td>0</td>\n",
              "      <td>2</td>\n",
              "      <td>0.024046</td>\n",
              "      <td>0.315921</td>\n",
              "      <td>0.081086</td>\n",
              "      <td>-0.182551</td>\n",
              "      <td>-0.053585</td>\n",
              "      <td>-0.003708</td>\n",
              "      <td>0.819822</td>\n",
              "      <td>-0.169815</td>\n",
              "      <td>-0.173080</td>\n",
              "      <td>0.086405</td>\n",
              "      <td>0.023750</td>\n",
              "      <td>-0.531727</td>\n",
              "      <td>-0.141582</td>\n",
              "      <td>-0.202368</td>\n",
              "      <td>-0.004887</td>\n",
              "      <td>0.175645</td>\n",
              "      <td>0.300944</td>\n",
              "      <td>0.306341</td>\n",
              "    </tr>\n",
              "    <tr>\n",
              "      <th>3</th>\n",
              "      <td>0</td>\n",
              "      <td>3</td>\n",
              "      <td>0.065632</td>\n",
              "      <td>0.117634</td>\n",
              "      <td>-0.040874</td>\n",
              "      <td>-0.194863</td>\n",
              "      <td>0.154242</td>\n",
              "      <td>0.005408</td>\n",
              "      <td>0.785669</td>\n",
              "      <td>-0.035229</td>\n",
              "      <td>-0.040560</td>\n",
              "      <td>-0.058780</td>\n",
              "      <td>-0.213920</td>\n",
              "      <td>0.285459</td>\n",
              "      <td>0.229520</td>\n",
              "      <td>-0.385106</td>\n",
              "      <td>-0.135647</td>\n",
              "      <td>-0.077915</td>\n",
              "      <td>0.609008</td>\n",
              "      <td>0.599518</td>\n",
              "    </tr>\n",
              "    <tr>\n",
              "      <th>4</th>\n",
              "      <td>0</td>\n",
              "      <td>4</td>\n",
              "      <td>0.151477</td>\n",
              "      <td>0.300751</td>\n",
              "      <td>0.317742</td>\n",
              "      <td>-0.350724</td>\n",
              "      <td>0.494539</td>\n",
              "      <td>0.154354</td>\n",
              "      <td>0.791528</td>\n",
              "      <td>0.021954</td>\n",
              "      <td>0.016872</td>\n",
              "      <td>0.039823</td>\n",
              "      <td>0.259227</td>\n",
              "      <td>-0.055206</td>\n",
              "      <td>0.057320</td>\n",
              "      <td>-0.174917</td>\n",
              "      <td>-0.028047</td>\n",
              "      <td>0.013483</td>\n",
              "      <td>0.259626</td>\n",
              "      <td>0.260669</td>\n",
              "    </tr>\n",
              "  </tbody>\n",
              "</table>\n",
              "</div>"
            ],
            "text/plain": [
              "   id  time      acc_x     acc_y      acc_z      gy_x      gy_y      gy_z  \\\n",
              "0   0     0  27.356382  8.807207  19.465910  0.376992  0.869226  0.150423   \n",
              "1   0     1  -0.054866  0.833464   0.820412 -0.282128 -0.093560  0.011266   \n",
              "2   0     2   0.024046  0.315921   0.081086 -0.182551 -0.053585 -0.003708   \n",
              "3   0     3   0.065632  0.117634  -0.040874 -0.194863  0.154242  0.005408   \n",
              "4   0     4   0.151477  0.300751   0.317742 -0.350724  0.494539  0.154354   \n",
              "\n",
              "   acc_Energy  gy_Energy  gy_acc_Energy  acc_x_dt  acc_y_dt  acc_z_dt  \\\n",
              "0    0.495681  -0.272719      -0.276391  0.000027  0.000298 -0.000433   \n",
              "1    0.742974  -0.236152      -0.240632  0.416836 -0.118821 -0.255054   \n",
              "2    0.819822  -0.169815      -0.173080  0.086405  0.023750 -0.531727   \n",
              "3    0.785669  -0.035229      -0.040560 -0.058780 -0.213920  0.285459   \n",
              "4    0.791528   0.021954       0.016872  0.039823  0.259227 -0.055206   \n",
              "\n",
              "    gy_x_dt   gy_y_dt   gy_z_dt  acc_Energy_dt  gy_Energy_dt  gy_acc_Energy_dt  \n",
              "0  0.000347  0.000373  0.000273       0.000101      0.001505          0.001501  \n",
              "1  0.032738 -0.349095  0.377085       0.564992      0.166566          0.162871  \n",
              "2 -0.141582 -0.202368 -0.004887       0.175645      0.300944          0.306341  \n",
              "3  0.229520 -0.385106 -0.135647      -0.077915      0.609008          0.599518  \n",
              "4  0.057320 -0.174917 -0.028047       0.013483      0.259626          0.260669  "
            ]
          },
          "metadata": {
            "tags": []
          },
          "execution_count": 18
        }
      ]
    },
    {
      "cell_type": "markdown",
      "metadata": {
        "id": "ukVfKxfgbq-k"
      },
      "source": [
        "모델링\n",
        "CNN, LSTM, CNN+LSTM 등 여러 구조 적용해보다가 CNN에서 Flatten 없이 Global average pooling 한 구조가 가장 성능이 좋아 채택했습니다."
      ]
    },
    {
      "cell_type": "code",
      "metadata": {
        "colab": {
          "base_uri": "https://localhost:8080/"
        },
        "id": "JFwxuqrIiFJw",
        "outputId": "7d10c833-57f8-4c7f-9c29-65a431c8bd75"
      },
      "source": [
        "!pip install tensorflow_addons"
      ],
      "execution_count": null,
      "outputs": [
        {
          "output_type": "stream",
          "text": [
            "Collecting tensorflow_addons\n",
            "\u001b[?25l  Downloading https://files.pythonhosted.org/packages/74/e3/56d2fe76f0bb7c88ed9b2a6a557e25e83e252aec08f13de34369cd850a0b/tensorflow_addons-0.12.1-cp37-cp37m-manylinux2010_x86_64.whl (703kB)\n",
            "\r\u001b[K     |▌                               | 10kB 12.1MB/s eta 0:00:01\r\u001b[K     |█                               | 20kB 10.4MB/s eta 0:00:01\r\u001b[K     |█▍                              | 30kB 5.2MB/s eta 0:00:01\r\u001b[K     |█▉                              | 40kB 6.2MB/s eta 0:00:01\r\u001b[K     |██▎                             | 51kB 5.8MB/s eta 0:00:01\r\u001b[K     |██▉                             | 61kB 6.0MB/s eta 0:00:01\r\u001b[K     |███▎                            | 71kB 6.3MB/s eta 0:00:01\r\u001b[K     |███▊                            | 81kB 5.9MB/s eta 0:00:01\r\u001b[K     |████▏                           | 92kB 6.0MB/s eta 0:00:01\r\u001b[K     |████▋                           | 102kB 6.1MB/s eta 0:00:01\r\u001b[K     |█████▏                          | 112kB 6.1MB/s eta 0:00:01\r\u001b[K     |█████▋                          | 122kB 6.1MB/s eta 0:00:01\r\u001b[K     |██████                          | 133kB 6.1MB/s eta 0:00:01\r\u001b[K     |██████▌                         | 143kB 6.1MB/s eta 0:00:01\r\u001b[K     |███████                         | 153kB 6.1MB/s eta 0:00:01\r\u001b[K     |███████▌                        | 163kB 6.1MB/s eta 0:00:01\r\u001b[K     |████████                        | 174kB 6.1MB/s eta 0:00:01\r\u001b[K     |████████▍                       | 184kB 6.1MB/s eta 0:00:01\r\u001b[K     |████████▉                       | 194kB 6.1MB/s eta 0:00:01\r\u001b[K     |█████████▎                      | 204kB 6.1MB/s eta 0:00:01\r\u001b[K     |█████████▉                      | 215kB 6.1MB/s eta 0:00:01\r\u001b[K     |██████████▎                     | 225kB 6.1MB/s eta 0:00:01\r\u001b[K     |██████████▊                     | 235kB 6.1MB/s eta 0:00:01\r\u001b[K     |███████████▏                    | 245kB 6.1MB/s eta 0:00:01\r\u001b[K     |███████████▋                    | 256kB 6.1MB/s eta 0:00:01\r\u001b[K     |████████████▏                   | 266kB 6.1MB/s eta 0:00:01\r\u001b[K     |████████████▋                   | 276kB 6.1MB/s eta 0:00:01\r\u001b[K     |█████████████                   | 286kB 6.1MB/s eta 0:00:01\r\u001b[K     |█████████████▌                  | 296kB 6.1MB/s eta 0:00:01\r\u001b[K     |██████████████                  | 307kB 6.1MB/s eta 0:00:01\r\u001b[K     |██████████████▍                 | 317kB 6.1MB/s eta 0:00:01\r\u001b[K     |███████████████                 | 327kB 6.1MB/s eta 0:00:01\r\u001b[K     |███████████████▍                | 337kB 6.1MB/s eta 0:00:01\r\u001b[K     |███████████████▉                | 348kB 6.1MB/s eta 0:00:01\r\u001b[K     |████████████████▎               | 358kB 6.1MB/s eta 0:00:01\r\u001b[K     |████████████████▊               | 368kB 6.1MB/s eta 0:00:01\r\u001b[K     |█████████████████▎              | 378kB 6.1MB/s eta 0:00:01\r\u001b[K     |█████████████████▊              | 389kB 6.1MB/s eta 0:00:01\r\u001b[K     |██████████████████▏             | 399kB 6.1MB/s eta 0:00:01\r\u001b[K     |██████████████████▋             | 409kB 6.1MB/s eta 0:00:01\r\u001b[K     |███████████████████             | 419kB 6.1MB/s eta 0:00:01\r\u001b[K     |███████████████████▋            | 430kB 6.1MB/s eta 0:00:01\r\u001b[K     |████████████████████            | 440kB 6.1MB/s eta 0:00:01\r\u001b[K     |████████████████████▌           | 450kB 6.1MB/s eta 0:00:01\r\u001b[K     |█████████████████████           | 460kB 6.1MB/s eta 0:00:01\r\u001b[K     |█████████████████████▍          | 471kB 6.1MB/s eta 0:00:01\r\u001b[K     |██████████████████████          | 481kB 6.1MB/s eta 0:00:01\r\u001b[K     |██████████████████████▍         | 491kB 6.1MB/s eta 0:00:01\r\u001b[K     |██████████████████████▉         | 501kB 6.1MB/s eta 0:00:01\r\u001b[K     |███████████████████████▎        | 512kB 6.1MB/s eta 0:00:01\r\u001b[K     |███████████████████████▊        | 522kB 6.1MB/s eta 0:00:01\r\u001b[K     |████████████████████████▎       | 532kB 6.1MB/s eta 0:00:01\r\u001b[K     |████████████████████████▊       | 542kB 6.1MB/s eta 0:00:01\r\u001b[K     |█████████████████████████▏      | 552kB 6.1MB/s eta 0:00:01\r\u001b[K     |█████████████████████████▋      | 563kB 6.1MB/s eta 0:00:01\r\u001b[K     |██████████████████████████      | 573kB 6.1MB/s eta 0:00:01\r\u001b[K     |██████████████████████████▋     | 583kB 6.1MB/s eta 0:00:01\r\u001b[K     |███████████████████████████     | 593kB 6.1MB/s eta 0:00:01\r\u001b[K     |███████████████████████████▌    | 604kB 6.1MB/s eta 0:00:01\r\u001b[K     |████████████████████████████    | 614kB 6.1MB/s eta 0:00:01\r\u001b[K     |████████████████████████████▍   | 624kB 6.1MB/s eta 0:00:01\r\u001b[K     |████████████████████████████▉   | 634kB 6.1MB/s eta 0:00:01\r\u001b[K     |█████████████████████████████▍  | 645kB 6.1MB/s eta 0:00:01\r\u001b[K     |█████████████████████████████▉  | 655kB 6.1MB/s eta 0:00:01\r\u001b[K     |██████████████████████████████▎ | 665kB 6.1MB/s eta 0:00:01\r\u001b[K     |██████████████████████████████▊ | 675kB 6.1MB/s eta 0:00:01\r\u001b[K     |███████████████████████████████▏| 686kB 6.1MB/s eta 0:00:01\r\u001b[K     |███████████████████████████████▊| 696kB 6.1MB/s eta 0:00:01\r\u001b[K     |████████████████████████████████| 706kB 6.1MB/s \n",
            "\u001b[?25hRequirement already satisfied: typeguard>=2.7 in /usr/local/lib/python3.7/dist-packages (from tensorflow_addons) (2.7.1)\n",
            "Installing collected packages: tensorflow-addons\n",
            "Successfully installed tensorflow-addons-0.12.1\n"
          ],
          "name": "stdout"
        }
      ]
    },
    {
      "cell_type": "code",
      "metadata": {
        "collapsed": true,
        "id": "qT63RJbVbq-l"
      },
      "source": [
        "import tensorflow as tf\n",
        "import tensorflow.keras as keras\n",
        "import tensorflow_addons as tfa\n",
        "from keras.models import Sequential\n",
        "from keras.layers import Dense, LSTM,Bidirectional,Dropout\n",
        "from keras.layers import Dense\n",
        "from keras.layers import Dropout\n",
        "from keras.layers import LSTM\n",
        "from keras.layers.convolutional import Conv1D\n",
        "from keras.layers.convolutional import MaxPooling1D\n",
        "from keras.utils import to_categorical\n",
        "from keras import backend as K \n",
        "from keras.callbacks import EarlyStopping, ModelCheckpoint,ReduceLROnPlateau\n",
        "from sklearn.model_selection import KFold,StratifiedKFold\n",
        "from numpy.random import seed\n",
        "import keras"
      ],
      "execution_count": null,
      "outputs": []
    },
    {
      "cell_type": "code",
      "metadata": {
        "colab": {
          "base_uri": "https://localhost:8080/"
        },
        "id": "eVWIXrtEbq-o",
        "outputId": "ed5eaaec-c783-4548-c3ea-f4b97bf2021a"
      },
      "source": [
        "X=np.array(train_sc.iloc[:,2:]).reshape(3125, 600, -1)\n",
        "X.shape"
      ],
      "execution_count": null,
      "outputs": [
        {
          "output_type": "execute_result",
          "data": {
            "text/plain": [
              "(3125, 600, 18)"
            ]
          },
          "metadata": {
            "tags": []
          },
          "execution_count": 98
        }
      ]
    },
    {
      "cell_type": "code",
      "metadata": {
        "colab": {
          "base_uri": "https://localhost:8080/"
        },
        "id": "CMnLtf22bq-r",
        "outputId": "39cc0b56-8de5-4d49-8b73-9abf6e0198ca"
      },
      "source": [
        "test_x=np.array(test_sc.iloc[:,2:]).reshape(782, 600, -1)\n",
        "test_x.shape"
      ],
      "execution_count": null,
      "outputs": [
        {
          "output_type": "execute_result",
          "data": {
            "text/plain": [
              "(782, 600, 18)"
            ]
          },
          "metadata": {
            "tags": []
          },
          "execution_count": 99
        }
      ]
    },
    {
      "cell_type": "code",
      "metadata": {
        "collapsed": true,
        "colab": {
          "base_uri": "https://localhost:8080/"
        },
        "id": "jk9jQt5Ibq-u",
        "outputId": "64c52fc0-5267-481e-cab8-39d8e1407c05"
      },
      "source": [
        "y = train_labels['label'].values\n",
        "# tf.keras.utils.to_categorical : Converts a class vector (integers) to binary class matrix.\n",
        "y = tf.keras.utils.to_categorical(train_labels['label']) \n",
        "y.shape"
      ],
      "execution_count": null,
      "outputs": [
        {
          "output_type": "execute_result",
          "data": {
            "text/plain": [
              "(3125, 61)"
            ]
          },
          "metadata": {
            "tags": []
          },
          "execution_count": 100
        }
      ]
    },
    {
      "cell_type": "code",
      "metadata": {
        "id": "PDVpfp9Cbq-x"
      },
      "source": [
        "# cnn model (tensorflow)\n",
        "def cnn_model(input_shape, classes):\n",
        "    seed(2021)\n",
        "    tf.random.set_seed(2021)\n",
        "    \n",
        "    input_layer = keras.layers.Input(input_shape)\n",
        "    conv1 = keras.layers.Conv1D(filters=128, kernel_size=9, padding='same')(input_layer)\n",
        "    conv1 = keras.layers.BatchNormalization()(conv1)\n",
        "    conv1 = keras.layers.Activation(activation='relu')(conv1)\n",
        "    conv1 = keras.layers.Dropout(rate=0.3)(conv1)\n",
        "\n",
        "    conv2 = keras.layers.Conv1D(filters=256, kernel_size=6, padding='same')(conv1)\n",
        "    conv2 = keras.layers.BatchNormalization()(conv2)\n",
        "    conv2 = keras.layers.Activation('relu')(conv2)\n",
        "    conv2 = keras.layers.Dropout(rate=0.4)(conv2)\n",
        "    \n",
        "    conv3 = keras.layers.Conv1D(128, kernel_size=3,padding='same')(conv2)\n",
        "    conv3 = keras.layers.BatchNormalization()(conv3)\n",
        "    conv3 = keras.layers.Activation('relu')(conv3)\n",
        "    conv3 = keras.layers.Dropout(rate=0.5)(conv3)\n",
        "    \n",
        "    gap = keras.layers.GlobalAveragePooling1D()(conv3)\n",
        "    \n",
        "    output_layer = keras.layers.Dense(classes, activation='softmax')(gap)\n",
        "    \n",
        "    model = keras.models.Model(inputs=input_layer, outputs=output_layer)\n",
        "    \n",
        "    model.compile(loss='categorical_crossentropy', optimizer = keras.optimizers.Adam(), \n",
        "        metrics=['accuracy'])\n",
        "    \n",
        "    return model"
      ],
      "execution_count": null,
      "outputs": []
    },
    {
      "cell_type": "code",
      "metadata": {
        "colab": {
          "base_uri": "https://localhost:8080/"
        },
        "id": "MCAcjVymkjGO",
        "outputId": "6c94882f-70e2-43ac-d70f-c1fc48d03655"
      },
      "source": [
        "model_ex = cnn_model((600,18),61)\n",
        "model_ex.summary()"
      ],
      "execution_count": null,
      "outputs": [
        {
          "output_type": "stream",
          "text": [
            "Model: \"model_2\"\n",
            "_________________________________________________________________\n",
            "Layer (type)                 Output Shape              Param #   \n",
            "=================================================================\n",
            "input_3 (InputLayer)         [(None, 600, 18)]         0         \n",
            "_________________________________________________________________\n",
            "conv1d_6 (Conv1D)            (None, 600, 128)          20864     \n",
            "_________________________________________________________________\n",
            "batch_normalization_6 (Batch (None, 600, 128)          512       \n",
            "_________________________________________________________________\n",
            "activation_6 (Activation)    (None, 600, 128)          0         \n",
            "_________________________________________________________________\n",
            "dropout_6 (Dropout)          (None, 600, 128)          0         \n",
            "_________________________________________________________________\n",
            "conv1d_7 (Conv1D)            (None, 600, 256)          196864    \n",
            "_________________________________________________________________\n",
            "batch_normalization_7 (Batch (None, 600, 256)          1024      \n",
            "_________________________________________________________________\n",
            "activation_7 (Activation)    (None, 600, 256)          0         \n",
            "_________________________________________________________________\n",
            "dropout_7 (Dropout)          (None, 600, 256)          0         \n",
            "_________________________________________________________________\n",
            "conv1d_8 (Conv1D)            (None, 600, 128)          98432     \n",
            "_________________________________________________________________\n",
            "batch_normalization_8 (Batch (None, 600, 128)          512       \n",
            "_________________________________________________________________\n",
            "activation_8 (Activation)    (None, 600, 128)          0         \n",
            "_________________________________________________________________\n",
            "dropout_8 (Dropout)          (None, 600, 128)          0         \n",
            "_________________________________________________________________\n",
            "global_average_pooling1d_2 ( (None, 128)               0         \n",
            "_________________________________________________________________\n",
            "dense_2 (Dense)              (None, 61)                7869      \n",
            "=================================================================\n",
            "Total params: 326,077\n",
            "Trainable params: 325,053\n",
            "Non-trainable params: 1,024\n",
            "_________________________________________________________________\n"
          ],
          "name": "stdout"
        }
      ]
    },
    {
      "cell_type": "markdown",
      "metadata": {
        "id": "xi5nd73Bbq-3"
      },
      "source": [
        "GAP의 목적은 feature를 1차원 벡터로 만들기 위함\n",
        "GAP는 CNN + FC(Fully Connected) Layer에서 classifier인 FC Layer를 없애기 위한 방법으로 도입\n",
        "어떤 사이즈의 입력이 들어와도 상관없고 학습, 과적합 유리\n",
        "GAP 연산 결과는 1차원 벡터\n",
        "경우에 따라서 FC layer와 같이 사용 되기도 합니다. FC layer에 전달하기 전에 GAP를 이용하여 차원을 줄여서 벡터로 만든 다음에 FC layer로 전달 하면 FC Layer에서 쉽게 사이즈를 맞출 수 있기 때문입니다."
      ]
    },
    {
      "cell_type": "markdown",
      "metadata": {
        "id": "4wTe6mePbq-7"
      },
      "source": [
        "10-fold StratifiedKFold (분류문제에서 label의 분포가 각 class별로 불균형을 이룰 때 유용)"
      ]
    },
    {
      "cell_type": "code",
      "metadata": {
        "colab": {
          "base_uri": "https://localhost:8080/",
          "height": 592
        },
        "id": "wCAQl7lXiPBD",
        "outputId": "0a07d0f3-7ac5-44d7-8528-b91789d3bdf2"
      },
      "source": [
        "skf = StratifiedKFold(n_splits = 10, random_state = 2021, shuffle = True)\n",
        "reLR = ReduceLROnPlateau(patience = 4,verbose = 1,factor = 0.5) \n",
        "es =EarlyStopping(monitor='val_loss', patience=8, mode='min')\n",
        "\n",
        "accuracy = []\n",
        "losss=[]\n",
        "models=[]\n",
        "\n",
        "for i, (train, validation) in enumerate(skf.split(X, y.argmax(1))) :\n",
        "    mc = ModelCheckpoint(f'./model_kf/cv_study{i + 1}.h5',save_best_only=True, verbose=0, monitor = 'val_loss', mode = 'min', save_weights_only=True)\n",
        "    print(\"-\" * 20 +\"Fold_\"+str(i+1)+ \"-\" * 20)\n",
        "    model = cnn_model((600,18),61)\n",
        "    history = model.fit(X[train], y[train], epochs = 100, validation_data= (X[validation], y[validation]), \n",
        "                        verbose=1,batch_size=64,callbacks=[es,mc,reLR])\n",
        "    model.load_weights(f'./model_kf/cv_study{i + 1}.h5')\n",
        "    \n",
        "    k_accuracy = '%.4f' % (model.evaluate(X[validation], y[validation])[1])\n",
        "    k_loss = '%.4f' % (model.evaluate(X[validation], y[validation])[0])\n",
        "    \n",
        "    accuracy.append(k_accuracy)\n",
        "    losss.append(k_loss)\n",
        "    models.append(model)\n",
        "\n",
        "print('\\nK-fold cross validation Auc: {}'.format(accuracy))\n",
        "print('\\nK-fold cross validation loss: {}'.format(losss))"
      ],
      "execution_count": null,
      "outputs": [
        {
          "output_type": "stream",
          "text": [
            "--------------------Fold_1--------------------\n",
            "Epoch 1/100\n",
            "44/44 [==============================] - 79s 2s/step - loss: 3.3854 - accuracy: 0.3490 - val_loss: 3.1167 - val_accuracy: 0.3099\n"
          ],
          "name": "stdout"
        },
        {
          "output_type": "error",
          "ename": "OSError",
          "evalue": "ignored",
          "traceback": [
            "\u001b[0;31m---------------------------------------------------------------------------\u001b[0m",
            "\u001b[0;31mOSError\u001b[0m                                   Traceback (most recent call last)",
            "\u001b[0;32m<ipython-input-102-4c219eb9d926>\u001b[0m in \u001b[0;36m<module>\u001b[0;34m()\u001b[0m\n\u001b[1;32m     12\u001b[0m     \u001b[0mmodel\u001b[0m \u001b[0;34m=\u001b[0m \u001b[0mcnn_model\u001b[0m\u001b[0;34m(\u001b[0m\u001b[0;34m(\u001b[0m\u001b[0;36m600\u001b[0m\u001b[0;34m,\u001b[0m\u001b[0;36m18\u001b[0m\u001b[0;34m)\u001b[0m\u001b[0;34m,\u001b[0m\u001b[0;36m61\u001b[0m\u001b[0;34m)\u001b[0m\u001b[0;34m\u001b[0m\u001b[0;34m\u001b[0m\u001b[0m\n\u001b[1;32m     13\u001b[0m     history = model.fit(X[train], y[train], epochs = 100, validation_data= (X[validation], y[validation]), \n\u001b[0;32m---> 14\u001b[0;31m                         verbose=1,batch_size=64,callbacks=[es,mc,reLR])\n\u001b[0m\u001b[1;32m     15\u001b[0m     \u001b[0mmodel\u001b[0m\u001b[0;34m.\u001b[0m\u001b[0mload_weights\u001b[0m\u001b[0;34m(\u001b[0m\u001b[0;34mf'./model_kf/cv_study{i + 1}.h5'\u001b[0m\u001b[0;34m)\u001b[0m\u001b[0;34m\u001b[0m\u001b[0;34m\u001b[0m\u001b[0m\n\u001b[1;32m     16\u001b[0m \u001b[0;34m\u001b[0m\u001b[0m\n",
            "\u001b[0;32m/usr/local/lib/python3.7/dist-packages/tensorflow/python/keras/engine/training.py\u001b[0m in \u001b[0;36mfit\u001b[0;34m(self, x, y, batch_size, epochs, verbose, callbacks, validation_split, validation_data, shuffle, class_weight, sample_weight, initial_epoch, steps_per_epoch, validation_steps, validation_batch_size, validation_freq, max_queue_size, workers, use_multiprocessing)\u001b[0m\n\u001b[1;32m   1143\u001b[0m           \u001b[0mepoch_logs\u001b[0m\u001b[0;34m.\u001b[0m\u001b[0mupdate\u001b[0m\u001b[0;34m(\u001b[0m\u001b[0mval_logs\u001b[0m\u001b[0;34m)\u001b[0m\u001b[0;34m\u001b[0m\u001b[0;34m\u001b[0m\u001b[0m\n\u001b[1;32m   1144\u001b[0m \u001b[0;34m\u001b[0m\u001b[0m\n\u001b[0;32m-> 1145\u001b[0;31m         \u001b[0mcallbacks\u001b[0m\u001b[0;34m.\u001b[0m\u001b[0mon_epoch_end\u001b[0m\u001b[0;34m(\u001b[0m\u001b[0mepoch\u001b[0m\u001b[0;34m,\u001b[0m \u001b[0mepoch_logs\u001b[0m\u001b[0;34m)\u001b[0m\u001b[0;34m\u001b[0m\u001b[0;34m\u001b[0m\u001b[0m\n\u001b[0m\u001b[1;32m   1146\u001b[0m         \u001b[0mtraining_logs\u001b[0m \u001b[0;34m=\u001b[0m \u001b[0mepoch_logs\u001b[0m\u001b[0;34m\u001b[0m\u001b[0;34m\u001b[0m\u001b[0m\n\u001b[1;32m   1147\u001b[0m         \u001b[0;32mif\u001b[0m \u001b[0mself\u001b[0m\u001b[0;34m.\u001b[0m\u001b[0mstop_training\u001b[0m\u001b[0;34m:\u001b[0m\u001b[0;34m\u001b[0m\u001b[0;34m\u001b[0m\u001b[0m\n",
            "\u001b[0;32m/usr/local/lib/python3.7/dist-packages/tensorflow/python/keras/callbacks.py\u001b[0m in \u001b[0;36mon_epoch_end\u001b[0;34m(self, epoch, logs)\u001b[0m\n\u001b[1;32m    426\u001b[0m     \u001b[0;32mfor\u001b[0m \u001b[0mcallback\u001b[0m \u001b[0;32min\u001b[0m \u001b[0mself\u001b[0m\u001b[0;34m.\u001b[0m\u001b[0mcallbacks\u001b[0m\u001b[0;34m:\u001b[0m\u001b[0;34m\u001b[0m\u001b[0;34m\u001b[0m\u001b[0m\n\u001b[1;32m    427\u001b[0m       \u001b[0;32mif\u001b[0m \u001b[0mgetattr\u001b[0m\u001b[0;34m(\u001b[0m\u001b[0mcallback\u001b[0m\u001b[0;34m,\u001b[0m \u001b[0;34m'_supports_tf_logs'\u001b[0m\u001b[0;34m,\u001b[0m \u001b[0;32mFalse\u001b[0m\u001b[0;34m)\u001b[0m\u001b[0;34m:\u001b[0m\u001b[0;34m\u001b[0m\u001b[0;34m\u001b[0m\u001b[0m\n\u001b[0;32m--> 428\u001b[0;31m         \u001b[0mcallback\u001b[0m\u001b[0;34m.\u001b[0m\u001b[0mon_epoch_end\u001b[0m\u001b[0;34m(\u001b[0m\u001b[0mepoch\u001b[0m\u001b[0;34m,\u001b[0m \u001b[0mlogs\u001b[0m\u001b[0;34m)\u001b[0m\u001b[0;34m\u001b[0m\u001b[0;34m\u001b[0m\u001b[0m\n\u001b[0m\u001b[1;32m    429\u001b[0m       \u001b[0;32melse\u001b[0m\u001b[0;34m:\u001b[0m\u001b[0;34m\u001b[0m\u001b[0;34m\u001b[0m\u001b[0m\n\u001b[1;32m    430\u001b[0m         \u001b[0;32mif\u001b[0m \u001b[0mnumpy_logs\u001b[0m \u001b[0;32mis\u001b[0m \u001b[0;32mNone\u001b[0m\u001b[0;34m:\u001b[0m  \u001b[0;31m# Only convert once.\u001b[0m\u001b[0;34m\u001b[0m\u001b[0;34m\u001b[0m\u001b[0m\n",
            "\u001b[0;32m/usr/local/lib/python3.7/dist-packages/tensorflow/python/keras/callbacks.py\u001b[0m in \u001b[0;36mon_epoch_end\u001b[0;34m(self, epoch, logs)\u001b[0m\n\u001b[1;32m   1342\u001b[0m     \u001b[0;31m# pylint: disable=protected-access\u001b[0m\u001b[0;34m\u001b[0m\u001b[0;34m\u001b[0m\u001b[0;34m\u001b[0m\u001b[0m\n\u001b[1;32m   1343\u001b[0m     \u001b[0;32mif\u001b[0m \u001b[0mself\u001b[0m\u001b[0;34m.\u001b[0m\u001b[0msave_freq\u001b[0m \u001b[0;34m==\u001b[0m \u001b[0;34m'epoch'\u001b[0m\u001b[0;34m:\u001b[0m\u001b[0;34m\u001b[0m\u001b[0;34m\u001b[0m\u001b[0m\n\u001b[0;32m-> 1344\u001b[0;31m       \u001b[0mself\u001b[0m\u001b[0;34m.\u001b[0m\u001b[0m_save_model\u001b[0m\u001b[0;34m(\u001b[0m\u001b[0mepoch\u001b[0m\u001b[0;34m=\u001b[0m\u001b[0mepoch\u001b[0m\u001b[0;34m,\u001b[0m \u001b[0mlogs\u001b[0m\u001b[0;34m=\u001b[0m\u001b[0mlogs\u001b[0m\u001b[0;34m)\u001b[0m\u001b[0;34m\u001b[0m\u001b[0;34m\u001b[0m\u001b[0m\n\u001b[0m\u001b[1;32m   1345\u001b[0m \u001b[0;34m\u001b[0m\u001b[0m\n\u001b[1;32m   1346\u001b[0m   \u001b[0;32mdef\u001b[0m \u001b[0m_should_save_on_batch\u001b[0m\u001b[0;34m(\u001b[0m\u001b[0mself\u001b[0m\u001b[0;34m,\u001b[0m \u001b[0mbatch\u001b[0m\u001b[0;34m)\u001b[0m\u001b[0;34m:\u001b[0m\u001b[0;34m\u001b[0m\u001b[0;34m\u001b[0m\u001b[0m\n",
            "\u001b[0;32m/usr/local/lib/python3.7/dist-packages/tensorflow/python/keras/callbacks.py\u001b[0m in \u001b[0;36m_save_model\u001b[0;34m(self, epoch, logs)\u001b[0m\n\u001b[1;32m   1416\u001b[0m                         'directory: {}'.format(filepath))\n\u001b[1;32m   1417\u001b[0m         \u001b[0;31m# Re-throw the error for any other causes.\u001b[0m\u001b[0;34m\u001b[0m\u001b[0;34m\u001b[0m\u001b[0;34m\u001b[0m\u001b[0m\n\u001b[0;32m-> 1418\u001b[0;31m         \u001b[0;32mraise\u001b[0m \u001b[0me\u001b[0m\u001b[0;34m\u001b[0m\u001b[0;34m\u001b[0m\u001b[0m\n\u001b[0m\u001b[1;32m   1419\u001b[0m \u001b[0;34m\u001b[0m\u001b[0m\n\u001b[1;32m   1420\u001b[0m   \u001b[0;32mdef\u001b[0m \u001b[0m_get_file_path\u001b[0m\u001b[0;34m(\u001b[0m\u001b[0mself\u001b[0m\u001b[0;34m,\u001b[0m \u001b[0mepoch\u001b[0m\u001b[0;34m,\u001b[0m \u001b[0mlogs\u001b[0m\u001b[0;34m)\u001b[0m\u001b[0;34m:\u001b[0m\u001b[0;34m\u001b[0m\u001b[0;34m\u001b[0m\u001b[0m\n",
            "\u001b[0;32m/usr/local/lib/python3.7/dist-packages/tensorflow/python/keras/callbacks.py\u001b[0m in \u001b[0;36m_save_model\u001b[0;34m(self, epoch, logs)\u001b[0m\n\u001b[1;32m   1392\u001b[0m               \u001b[0;32mif\u001b[0m \u001b[0mself\u001b[0m\u001b[0;34m.\u001b[0m\u001b[0msave_weights_only\u001b[0m\u001b[0;34m:\u001b[0m\u001b[0;34m\u001b[0m\u001b[0;34m\u001b[0m\u001b[0m\n\u001b[1;32m   1393\u001b[0m                 self.model.save_weights(\n\u001b[0;32m-> 1394\u001b[0;31m                     filepath, overwrite=True, options=self._options)\n\u001b[0m\u001b[1;32m   1395\u001b[0m               \u001b[0;32melse\u001b[0m\u001b[0;34m:\u001b[0m\u001b[0;34m\u001b[0m\u001b[0;34m\u001b[0m\u001b[0m\n\u001b[1;32m   1396\u001b[0m                 \u001b[0mself\u001b[0m\u001b[0;34m.\u001b[0m\u001b[0mmodel\u001b[0m\u001b[0;34m.\u001b[0m\u001b[0msave\u001b[0m\u001b[0;34m(\u001b[0m\u001b[0mfilepath\u001b[0m\u001b[0;34m,\u001b[0m \u001b[0moverwrite\u001b[0m\u001b[0;34m=\u001b[0m\u001b[0;32mTrue\u001b[0m\u001b[0;34m,\u001b[0m \u001b[0moptions\u001b[0m\u001b[0;34m=\u001b[0m\u001b[0mself\u001b[0m\u001b[0;34m.\u001b[0m\u001b[0m_options\u001b[0m\u001b[0;34m)\u001b[0m\u001b[0;34m\u001b[0m\u001b[0;34m\u001b[0m\u001b[0m\n",
            "\u001b[0;32m/usr/local/lib/python3.7/dist-packages/tensorflow/python/keras/engine/training.py\u001b[0m in \u001b[0;36msave_weights\u001b[0;34m(self, filepath, overwrite, save_format, options)\u001b[0m\n\u001b[1;32m   2105\u001b[0m         \u001b[0;32mreturn\u001b[0m\u001b[0;34m\u001b[0m\u001b[0;34m\u001b[0m\u001b[0m\n\u001b[1;32m   2106\u001b[0m     \u001b[0;32mif\u001b[0m \u001b[0msave_format\u001b[0m \u001b[0;34m==\u001b[0m \u001b[0;34m'h5'\u001b[0m\u001b[0;34m:\u001b[0m\u001b[0;34m\u001b[0m\u001b[0;34m\u001b[0m\u001b[0m\n\u001b[0;32m-> 2107\u001b[0;31m       \u001b[0;32mwith\u001b[0m \u001b[0mh5py\u001b[0m\u001b[0;34m.\u001b[0m\u001b[0mFile\u001b[0m\u001b[0;34m(\u001b[0m\u001b[0mfilepath\u001b[0m\u001b[0;34m,\u001b[0m \u001b[0;34m'w'\u001b[0m\u001b[0;34m)\u001b[0m \u001b[0;32mas\u001b[0m \u001b[0mf\u001b[0m\u001b[0;34m:\u001b[0m\u001b[0;34m\u001b[0m\u001b[0;34m\u001b[0m\u001b[0m\n\u001b[0m\u001b[1;32m   2108\u001b[0m         \u001b[0mhdf5_format\u001b[0m\u001b[0;34m.\u001b[0m\u001b[0msave_weights_to_hdf5_group\u001b[0m\u001b[0;34m(\u001b[0m\u001b[0mf\u001b[0m\u001b[0;34m,\u001b[0m \u001b[0mself\u001b[0m\u001b[0;34m.\u001b[0m\u001b[0mlayers\u001b[0m\u001b[0;34m)\u001b[0m\u001b[0;34m\u001b[0m\u001b[0;34m\u001b[0m\u001b[0m\n\u001b[1;32m   2109\u001b[0m     \u001b[0;32melse\u001b[0m\u001b[0;34m:\u001b[0m\u001b[0;34m\u001b[0m\u001b[0;34m\u001b[0m\u001b[0m\n",
            "\u001b[0;32m/usr/local/lib/python3.7/dist-packages/h5py/_hl/files.py\u001b[0m in \u001b[0;36m__init__\u001b[0;34m(self, name, mode, driver, libver, userblock_size, swmr, rdcc_nslots, rdcc_nbytes, rdcc_w0, track_order, **kwds)\u001b[0m\n\u001b[1;32m    406\u001b[0m                 fid = make_fid(name, mode, userblock_size,\n\u001b[1;32m    407\u001b[0m                                \u001b[0mfapl\u001b[0m\u001b[0;34m,\u001b[0m \u001b[0mfcpl\u001b[0m\u001b[0;34m=\u001b[0m\u001b[0mmake_fcpl\u001b[0m\u001b[0;34m(\u001b[0m\u001b[0mtrack_order\u001b[0m\u001b[0;34m=\u001b[0m\u001b[0mtrack_order\u001b[0m\u001b[0;34m)\u001b[0m\u001b[0;34m,\u001b[0m\u001b[0;34m\u001b[0m\u001b[0;34m\u001b[0m\u001b[0m\n\u001b[0;32m--> 408\u001b[0;31m                                swmr=swmr)\n\u001b[0m\u001b[1;32m    409\u001b[0m \u001b[0;34m\u001b[0m\u001b[0m\n\u001b[1;32m    410\u001b[0m             \u001b[0;32mif\u001b[0m \u001b[0misinstance\u001b[0m\u001b[0;34m(\u001b[0m\u001b[0mlibver\u001b[0m\u001b[0;34m,\u001b[0m \u001b[0mtuple\u001b[0m\u001b[0;34m)\u001b[0m\u001b[0;34m:\u001b[0m\u001b[0;34m\u001b[0m\u001b[0;34m\u001b[0m\u001b[0m\n",
            "\u001b[0;32m/usr/local/lib/python3.7/dist-packages/h5py/_hl/files.py\u001b[0m in \u001b[0;36mmake_fid\u001b[0;34m(name, mode, userblock_size, fapl, fcpl, swmr)\u001b[0m\n\u001b[1;32m    177\u001b[0m         \u001b[0mfid\u001b[0m \u001b[0;34m=\u001b[0m \u001b[0mh5f\u001b[0m\u001b[0;34m.\u001b[0m\u001b[0mcreate\u001b[0m\u001b[0;34m(\u001b[0m\u001b[0mname\u001b[0m\u001b[0;34m,\u001b[0m \u001b[0mh5f\u001b[0m\u001b[0;34m.\u001b[0m\u001b[0mACC_EXCL\u001b[0m\u001b[0;34m,\u001b[0m \u001b[0mfapl\u001b[0m\u001b[0;34m=\u001b[0m\u001b[0mfapl\u001b[0m\u001b[0;34m,\u001b[0m \u001b[0mfcpl\u001b[0m\u001b[0;34m=\u001b[0m\u001b[0mfcpl\u001b[0m\u001b[0;34m)\u001b[0m\u001b[0;34m\u001b[0m\u001b[0;34m\u001b[0m\u001b[0m\n\u001b[1;32m    178\u001b[0m     \u001b[0;32melif\u001b[0m \u001b[0mmode\u001b[0m \u001b[0;34m==\u001b[0m \u001b[0;34m'w'\u001b[0m\u001b[0;34m:\u001b[0m\u001b[0;34m\u001b[0m\u001b[0;34m\u001b[0m\u001b[0m\n\u001b[0;32m--> 179\u001b[0;31m         \u001b[0mfid\u001b[0m \u001b[0;34m=\u001b[0m \u001b[0mh5f\u001b[0m\u001b[0;34m.\u001b[0m\u001b[0mcreate\u001b[0m\u001b[0;34m(\u001b[0m\u001b[0mname\u001b[0m\u001b[0;34m,\u001b[0m \u001b[0mh5f\u001b[0m\u001b[0;34m.\u001b[0m\u001b[0mACC_TRUNC\u001b[0m\u001b[0;34m,\u001b[0m \u001b[0mfapl\u001b[0m\u001b[0;34m=\u001b[0m\u001b[0mfapl\u001b[0m\u001b[0;34m,\u001b[0m \u001b[0mfcpl\u001b[0m\u001b[0;34m=\u001b[0m\u001b[0mfcpl\u001b[0m\u001b[0;34m)\u001b[0m\u001b[0;34m\u001b[0m\u001b[0;34m\u001b[0m\u001b[0m\n\u001b[0m\u001b[1;32m    180\u001b[0m     \u001b[0;32melif\u001b[0m \u001b[0mmode\u001b[0m \u001b[0;34m==\u001b[0m \u001b[0;34m'a'\u001b[0m\u001b[0;34m:\u001b[0m\u001b[0;34m\u001b[0m\u001b[0;34m\u001b[0m\u001b[0m\n\u001b[1;32m    181\u001b[0m         \u001b[0;31m# Open in append mode (read/write).\u001b[0m\u001b[0;34m\u001b[0m\u001b[0;34m\u001b[0m\u001b[0;34m\u001b[0m\u001b[0m\n",
            "\u001b[0;32mh5py/_objects.pyx\u001b[0m in \u001b[0;36mh5py._objects.with_phil.wrapper\u001b[0;34m()\u001b[0m\n",
            "\u001b[0;32mh5py/_objects.pyx\u001b[0m in \u001b[0;36mh5py._objects.with_phil.wrapper\u001b[0;34m()\u001b[0m\n",
            "\u001b[0;32mh5py/h5f.pyx\u001b[0m in \u001b[0;36mh5py.h5f.create\u001b[0;34m()\u001b[0m\n",
            "\u001b[0;31mOSError\u001b[0m: Unable to create file (unable to open file: name = './model_kf/cv_study1.h5', errno = 2, error message = 'No such file or directory', flags = 13, o_flags = 242)"
          ]
        }
      ]
    },
    {
      "cell_type": "markdown",
      "metadata": {
        "id": "YVLwGPblbq_E"
      },
      "source": [
        "성능 확인 및 제출"
      ]
    },
    {
      "cell_type": "code",
      "metadata": {
        "collapsed": true,
        "id": "79DnduRxbq_H",
        "outputId": "d9a7764b-b858-4aeb-e96d-24021fef9a5d"
      },
      "source": [
        "print(sum([float(i) for i in accuracy])/10)\n",
        "print()\n",
        "print(sum([float(i) for i in losss])/10)"
      ],
      "execution_count": null,
      "outputs": [
        {
          "output_type": "stream",
          "text": [
            "ERROR:root:Internal Python error in the inspect module.\n",
            "Below is the traceback from this internal error.\n",
            "\n"
          ],
          "name": "stderr"
        },
        {
          "output_type": "stream",
          "text": [
            "Traceback (most recent call last):\n",
            "  File \"C:\\Users\\leesa\\anaconda3\\lib\\site-packages\\IPython\\core\\interactiveshell.py\", line 3331, in run_code\n",
            "    exec(code_obj, self.user_global_ns, self.user_ns)\n",
            "  File \"<ipython-input-44-709c0f85d52a>\", line 1, in <module>\n",
            "    print(sum([float(i) for i in accuracy])/10)\n",
            "NameError: name 'accuracy' is not defined\n",
            "\n",
            "During handling of the above exception, another exception occurred:\n",
            "\n",
            "Traceback (most recent call last):\n",
            "  File \"C:\\Users\\leesa\\anaconda3\\lib\\site-packages\\IPython\\core\\interactiveshell.py\", line 2044, in showtraceback\n",
            "    stb = value._render_traceback_()\n",
            "AttributeError: 'NameError' object has no attribute '_render_traceback_'\n",
            "\n",
            "During handling of the above exception, another exception occurred:\n",
            "\n",
            "Traceback (most recent call last):\n",
            "  File \"C:\\Users\\leesa\\anaconda3\\lib\\site-packages\\tensorflow_core\\python\\pywrap_tensorflow.py\", line 58, in <module>\n",
            "    from tensorflow.python.pywrap_tensorflow_internal import *\n",
            "  File \"C:\\Users\\leesa\\anaconda3\\lib\\site-packages\\tensorflow_core\\python\\pywrap_tensorflow_internal.py\", line 28, in <module>\n",
            "    _pywrap_tensorflow_internal = swig_import_helper()\n",
            "  File \"C:\\Users\\leesa\\anaconda3\\lib\\site-packages\\tensorflow_core\\python\\pywrap_tensorflow_internal.py\", line 24, in swig_import_helper\n",
            "    _mod = imp.load_module('_pywrap_tensorflow_internal', fp, pathname, description)\n",
            "  File \"C:\\Users\\leesa\\anaconda3\\lib\\imp.py\", line 242, in load_module\n",
            "    return load_dynamic(name, filename, file)\n",
            "  File \"C:\\Users\\leesa\\anaconda3\\lib\\imp.py\", line 342, in load_dynamic\n",
            "    return _load(spec)\n",
            "ImportError: DLL load failed: DLL 초기화 루틴을 실행할 수 없습니다.\n",
            "\n",
            "During handling of the above exception, another exception occurred:\n",
            "\n",
            "Traceback (most recent call last):\n",
            "  File \"C:\\Users\\leesa\\anaconda3\\lib\\site-packages\\IPython\\core\\ultratb.py\", line 1151, in get_records\n",
            "    return _fixed_getinnerframes(etb, number_of_lines_of_context, tb_offset)\n",
            "  File \"C:\\Users\\leesa\\anaconda3\\lib\\site-packages\\IPython\\core\\ultratb.py\", line 319, in wrapped\n",
            "    return f(*args, **kwargs)\n",
            "  File \"C:\\Users\\leesa\\anaconda3\\lib\\site-packages\\IPython\\core\\ultratb.py\", line 353, in _fixed_getinnerframes\n",
            "    records = fix_frame_records_filenames(inspect.getinnerframes(etb, context))\n",
            "  File \"C:\\Users\\leesa\\anaconda3\\lib\\inspect.py\", line 1502, in getinnerframes\n",
            "    frameinfo = (tb.tb_frame,) + getframeinfo(tb, context)\n",
            "  File \"C:\\Users\\leesa\\anaconda3\\lib\\inspect.py\", line 1460, in getframeinfo\n",
            "    filename = getsourcefile(frame) or getfile(frame)\n",
            "  File \"C:\\Users\\leesa\\anaconda3\\lib\\inspect.py\", line 696, in getsourcefile\n",
            "    if getattr(getmodule(object, filename), '__loader__', None) is not None:\n",
            "  File \"C:\\Users\\leesa\\anaconda3\\lib\\inspect.py\", line 733, in getmodule\n",
            "    if ismodule(module) and hasattr(module, '__file__'):\n",
            "  File \"C:\\Users\\leesa\\anaconda3\\lib\\site-packages\\tensorflow\\__init__.py\", line 50, in __getattr__\n",
            "    module = self._load()\n",
            "  File \"C:\\Users\\leesa\\anaconda3\\lib\\site-packages\\tensorflow\\__init__.py\", line 44, in _load\n",
            "    module = _importlib.import_module(self.__name__)\n",
            "  File \"C:\\Users\\leesa\\anaconda3\\lib\\importlib\\__init__.py\", line 127, in import_module\n",
            "    return _bootstrap._gcd_import(name[level:], package, level)\n",
            "  File \"<frozen importlib._bootstrap>\", line 1006, in _gcd_import\n",
            "  File \"<frozen importlib._bootstrap>\", line 983, in _find_and_load\n",
            "  File \"<frozen importlib._bootstrap>\", line 953, in _find_and_load_unlocked\n",
            "  File \"<frozen importlib._bootstrap>\", line 219, in _call_with_frames_removed\n",
            "  File \"<frozen importlib._bootstrap>\", line 1006, in _gcd_import\n",
            "  File \"<frozen importlib._bootstrap>\", line 983, in _find_and_load\n",
            "  File \"<frozen importlib._bootstrap>\", line 967, in _find_and_load_unlocked\n",
            "  File \"<frozen importlib._bootstrap>\", line 677, in _load_unlocked\n",
            "  File \"<frozen importlib._bootstrap_external>\", line 728, in exec_module\n",
            "  File \"<frozen importlib._bootstrap>\", line 219, in _call_with_frames_removed\n",
            "  File \"C:\\Users\\leesa\\anaconda3\\lib\\site-packages\\tensorflow_core\\__init__.py\", line 42, in <module>\n",
            "    from . _api.v2 import audio\n",
            "  File \"C:\\Users\\leesa\\anaconda3\\lib\\site-packages\\tensorflow_core\\_api\\v2\\audio\\__init__.py\", line 10, in <module>\n",
            "    from tensorflow.python.ops.gen_audio_ops import decode_wav\n",
            "  File \"C:\\Users\\leesa\\anaconda3\\lib\\site-packages\\tensorflow_core\\python\\ops\\gen_audio_ops.py\", line 9, in <module>\n",
            "    from tensorflow.python import pywrap_tensorflow as _pywrap_tensorflow\n",
            "  File \"C:\\Users\\leesa\\anaconda3\\lib\\site-packages\\tensorflow\\__init__.py\", line 50, in __getattr__\n",
            "    module = self._load()\n",
            "  File \"C:\\Users\\leesa\\anaconda3\\lib\\site-packages\\tensorflow\\__init__.py\", line 44, in _load\n",
            "    module = _importlib.import_module(self.__name__)\n",
            "  File \"C:\\Users\\leesa\\anaconda3\\lib\\importlib\\__init__.py\", line 127, in import_module\n",
            "    return _bootstrap._gcd_import(name[level:], package, level)\n",
            "  File \"C:\\Users\\leesa\\anaconda3\\lib\\site-packages\\tensorflow_core\\python\\__init__.py\", line 49, in <module>\n",
            "    from tensorflow.python import pywrap_tensorflow\n",
            "  File \"C:\\Users\\leesa\\anaconda3\\lib\\site-packages\\tensorflow_core\\python\\pywrap_tensorflow.py\", line 74, in <module>\n",
            "    raise ImportError(msg)\n",
            "ImportError: Traceback (most recent call last):\n",
            "  File \"C:\\Users\\leesa\\anaconda3\\lib\\site-packages\\IPython\\core\\interactiveshell.py\", line 3331, in run_code\n",
            "    exec(code_obj, self.user_global_ns, self.user_ns)\n",
            "  File \"<ipython-input-44-709c0f85d52a>\", line 1, in <module>\n",
            "    print(sum([float(i) for i in accuracy])/10)\n",
            "NameError: name 'accuracy' is not defined\n",
            "\n",
            "During handling of the above exception, another exception occurred:\n",
            "\n",
            "Traceback (most recent call last):\n",
            "  File \"C:\\Users\\leesa\\anaconda3\\lib\\site-packages\\IPython\\core\\interactiveshell.py\", line 2044, in showtraceback\n",
            "    stb = value._render_traceback_()\n",
            "AttributeError: 'NameError' object has no attribute '_render_traceback_'\n",
            "\n",
            "During handling of the above exception, another exception occurred:\n",
            "\n",
            "Traceback (most recent call last):\n",
            "  File \"C:\\Users\\leesa\\anaconda3\\lib\\site-packages\\tensorflow_core\\python\\pywrap_tensorflow.py\", line 58, in <module>\n",
            "    from tensorflow.python.pywrap_tensorflow_internal import *\n",
            "  File \"C:\\Users\\leesa\\anaconda3\\lib\\site-packages\\tensorflow_core\\python\\pywrap_tensorflow_internal.py\", line 28, in <module>\n",
            "    _pywrap_tensorflow_internal = swig_import_helper()\n",
            "  File \"C:\\Users\\leesa\\anaconda3\\lib\\site-packages\\tensorflow_core\\python\\pywrap_tensorflow_internal.py\", line 24, in swig_import_helper\n",
            "    _mod = imp.load_module('_pywrap_tensorflow_internal', fp, pathname, description)\n",
            "  File \"C:\\Users\\leesa\\anaconda3\\lib\\imp.py\", line 242, in load_module\n",
            "    return load_dynamic(name, filename, file)\n",
            "  File \"C:\\Users\\leesa\\anaconda3\\lib\\imp.py\", line 342, in load_dynamic\n",
            "    return _load(spec)\n",
            "ImportError: DLL load failed: DLL 초기화 루틴을 실행할 수 없습니다.\n",
            "\n",
            "\n",
            "Failed to load the native TensorFlow runtime.\n",
            "\n",
            "See https://www.tensorflow.org/install/errors\n",
            "\n",
            "for some common reasons and solutions.  Include the entire stack trace\n",
            "above this error message when asking for help.\n"
          ],
          "name": "stdout"
        },
        {
          "output_type": "error",
          "ename": "NameError",
          "evalue": "name 'accuracy' is not defined",
          "traceback": [
            "\u001b[1;31m---------------------------------------------------------------------------\u001b[0m"
          ]
        }
      ]
    },
    {
      "cell_type": "code",
      "metadata": {
        "id": "z2_DlG2-bq_M"
      },
      "source": [
        "test_X=np.array(test_sc.iloc[:,2:]).reshape(782, 600, -1)\n",
        "test_X.shape"
      ],
      "execution_count": null,
      "outputs": []
    },
    {
      "cell_type": "code",
      "metadata": {
        "id": "DCzPfDS8bq_N"
      },
      "source": [
        "preds = []\n",
        "for model in models:\n",
        "    pred = model.predict(test_X)\n",
        "    preds.append(pred)\n",
        "pred = np.mean(preds, axis=0)\n",
        "pred"
      ],
      "execution_count": null,
      "outputs": []
    },
    {
      "cell_type": "code",
      "metadata": {
        "id": "r42Yp18sbq_S"
      },
      "source": [
        "submission=pd.read_csv('./data/sample_submission.csv')\n",
        "submission.iloc[:,1:]=pred\n",
        "submission\n",
        "submission.to_csv('sub_kfold_stratified_10_adam_fft_0.5.csv',index=False)"
      ],
      "execution_count": null,
      "outputs": []
    }
  ]
}